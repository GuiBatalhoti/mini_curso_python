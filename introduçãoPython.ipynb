{
  "cells": [
    {
      "cell_type": "markdown",
      "metadata": {
        "id": "view-in-github",
        "colab_type": "text"
      },
      "source": [
        "<a href=\"https://colab.research.google.com/github/GuiBatalhoti/mini_curso_python/blob/main/introdu%C3%A7%C3%A3oPython.ipynb\" target=\"_parent\"><img src=\"https://colab.research.google.com/assets/colab-badge.svg\" alt=\"Open In Colab\"/></a>"
      ]
    },
    {
      "cell_type": "markdown",
      "metadata": {
        "id": "3aVJYodCMJ1N"
      },
      "source": [
        "# <font color='green'>Minicurso Python</font>\n",
        "\n",
        "Prof. Dr. Ronaldo Celso Messias Correa (ronaldo.correia@unesp.br)\n",
        "\n",
        "Guilherme Eduardo Silva Batalhoti (guilherme.batalhoti@unesp.br)\n",
        "\n",
        "Lucas Vinícius Voltera (lucas.voltera@unesp.br)\n",
        "\n",
        "\n"
      ]
    },
    {
      "cell_type": "markdown",
      "source": [
        "## Python\n",
        "\n",
        "Python é uma linguagem de script, com tipagem dinâmica e forte, interpretada, orientada a objetos, com *garbage collection*. Documentação da linguagem no link: [1].\n",
        "\n",
        "Conhecida pela sua simplicidade e legibilidade, a linguagem python vem crescendo cada vez mais  nos últimos anos e, de acordo com um relatório publicado pelo github em 2021 [2], é a segunda linguagem mais popular.\n",
        "\n",
        "Além disso, a linguagem python é utilizada nas mais diversas áreas, como desenvolvimento web, mobile, jogos, automação, análise de dados e machine learning.\n",
        "\n",
        "[1] https://www.python.org/\n",
        "\n",
        "[2] https://octoverse.github.com/#top-languages-over-the-years"
      ],
      "metadata": {
        "id": "RZzAv6z_Y_6E"
      }
    },
    {
      "cell_type": "markdown",
      "metadata": {
        "id": "jP0lpYh2MJ1S"
      },
      "source": [
        "## Notebook\n",
        "\n",
        "Notebooks podem ser definidos como um ambiente para experimentação. Sendo especialmente utilizado para opereções de física computacional e análise de dados. Como exemplo de notebooks, temos o Jupyter e o Colab.\n",
        "\n",
        "A principal característica dos notebooks que se diferencia de scripts é a divisão do código em células, o que torna possível a execução do código de forma modular. Assim, é possível atualizar pequenas partes do código de maneira mais simples. Além disso, existe a possibilidade de utilziar linguagem markdown (como este texto) para a decrições ao invés de se utilizar comentários no código, o que auxilia na organização.\n",
        "\n",
        "Uma das vantagens dos notebooks é que podem ser configurados para execução em um ambiente de Cluster de maneira online, ou seja, sem cópia local. Isso permite que sejam utilizados recursos mais poderosos que apenas um laptop ou um PC, como um armazenamento maior para os dados, melhor processamento em CPU e GPU, maior quantidade de memória, etc.\n",
        "\n",
        "A fim de evitar complicações de instalação, usaremos o Google Colab, que pode ser acessado de forma gratuita e online para executar códigos na linguagem Python.\n",
        "\n"
      ]
    },
    {
      "cell_type": "markdown",
      "metadata": {
        "id": "rm42pw_IMJ1S"
      },
      "source": [
        "## Introdução ao Python\n",
        "\n",
        "Operações matemáticas, variáveis, tipo, loop, condicionais, estruturas de dados, métodos e funções, funções lambda, list comprehention, Orientação à Objetos."
      ]
    },
    {
      "cell_type": "markdown",
      "source": [
        "### Variáveis e tipos de dados:\n",
        "\n",
        "Vale ressaltar que em Python todas as veriáveis são um Objetos, isso será tratado melhor no tópico de OO."
      ],
      "metadata": {
        "id": "ll3z6OgNR5I3"
      }
    },
    {
      "cell_type": "code",
      "source": [
        "## String\n",
        "a = 'Ola Mundo'\n",
        "\n",
        "## Int\n",
        "b = 1\n",
        "\n",
        "## Float\n",
        "c = 1.1\n",
        "\n",
        "## Boolean\n",
        "d = True\n",
        "e = False\n"
      ],
      "metadata": {
        "id": "kaLdRZgKd_q5"
      },
      "execution_count": null,
      "outputs": []
    },
    {
      "cell_type": "markdown",
      "source": [
        "### Função *print()*"
      ],
      "metadata": {
        "id": "TSvOBDJ5WFRU"
      }
    },
    {
      "cell_type": "code",
      "source": [
        "## printando o resultado\n",
        "## por padrão o parâmetro end é '\\n', portanto, pula-se uma linha automaticamente a cada print. Mas é possível alterar\n",
        "print('string:', a)\n",
        "print('int', b)\n",
        "print('float', c, end = '\\n\\n')\n",
        "\n",
        "## formato fstring\n",
        "print(f'string: {a}\\nint: {b}\\nfloat: {c}')"
      ],
      "metadata": {
        "colab": {
          "base_uri": "https://localhost:8080/"
        },
        "id": "ytC4zKU2gHzQ",
        "outputId": "d67bf775-a778-49c6-9e61-94988d39f5d4"
      },
      "execution_count": null,
      "outputs": [
        {
          "output_type": "stream",
          "name": "stdout",
          "text": [
            "string: Ola Mundo\n",
            "int 1\n",
            "float 1.1\n",
            "\n",
            "string: Ola Mundo\n",
            "int: 1\n",
            "float: 1.1\n"
          ]
        }
      ]
    },
    {
      "cell_type": "markdown",
      "source": [
        "### Entrada de dados"
      ],
      "metadata": {
        "id": "JuwEAAdBSx2M"
      }
    },
    {
      "cell_type": "code",
      "source": [
        "## função input()\n",
        "\n",
        "## naturalmente a função input retorna uma string. Portanto, para receber uma entrada de\n",
        "## algum outro tipo de dado, é necessário fazer uma conversão\n",
        "\n",
        "entrada_str = input('Digite uma palavra: ')\n",
        "entrada_int = int(input('Digite um numero inteiro: '))\n",
        "entrada_float = float(input('Digite um numero decimal: '))\n",
        "\n",
        "print(f'\\nstring: {entrada_str}\\nint: {entrada_int}\\nfloat: {entrada_float}')"
      ],
      "metadata": {
        "colab": {
          "base_uri": "https://localhost:8080/"
        },
        "id": "YwkM5bjUS09b",
        "outputId": "c9a76080-6a6c-4f90-ba65-80677475203c"
      },
      "execution_count": null,
      "outputs": [
        {
          "output_type": "stream",
          "name": "stdout",
          "text": [
            "Digite uma palavra: a\n",
            "Digite um numero inteiro: 1\n",
            "Digite um numero decimal: 1.1\n",
            "\n",
            "string: a\n",
            "int: 1\n",
            "float: 1.1\n"
          ]
        }
      ]
    },
    {
      "cell_type": "markdown",
      "source": [
        "### Operações matemáticas:"
      ],
      "metadata": {
        "id": "1vr0bb2nWKai"
      }
    },
    {
      "cell_type": "code",
      "source": [
        "## operações matemáticas com números\n",
        "\n",
        "# a = 1, b = 1.1\n",
        "\n",
        "print(b + c)\n",
        "print(b - c)\n",
        "print(b * c)\n",
        "print(b / c)\n",
        "print(b % c) # divisão por resto\n",
        "print(b ** c) # potenciação"
      ],
      "metadata": {
        "colab": {
          "base_uri": "https://localhost:8080/"
        },
        "id": "QghegayWhfz_",
        "outputId": "86df080f-e301-4fa9-db02-a642ddfe657a"
      },
      "execution_count": null,
      "outputs": [
        {
          "output_type": "stream",
          "name": "stdout",
          "text": [
            "2.1\n",
            "-0.10000000000000009\n",
            "1.1\n",
            "0.9090909090909091\n",
            "1.0\n",
            "1.0\n"
          ]
        }
      ]
    },
    {
      "cell_type": "markdown",
      "source": [
        "## Operações com String:\n",
        "\n",
        "String é um vetor de caractere, onde cada caractere individual pode ser acessado com notação de índice [ i ]."
      ],
      "metadata": {
        "id": "Vn7rMs2cWWzd"
      }
    },
    {
      "cell_type": "markdown",
      "source": [
        "### Concatenação"
      ],
      "metadata": {
        "id": "dZNUcckzWqa9"
      }
    },
    {
      "cell_type": "code",
      "source": [
        "## concatenação\n",
        "\n",
        "a = a + '!!!'\n",
        "print(a)"
      ],
      "metadata": {
        "colab": {
          "base_uri": "https://localhost:8080/"
        },
        "id": "j9SEH_KMTiuT",
        "outputId": "e37e615a-1c72-40ba-8ede-7ee486f379ec"
      },
      "execution_count": null,
      "outputs": [
        {
          "output_type": "stream",
          "name": "stdout",
          "text": [
            "Ola Mundo!!!\n"
          ]
        }
      ]
    },
    {
      "cell_type": "markdown",
      "source": [
        "### Transformar em maísculo ou minúsculo"
      ],
      "metadata": {
        "id": "B_-tXMxWWuoM"
      }
    },
    {
      "cell_type": "code",
      "source": [
        "## deixar tudo em maiusculo ou minusculo\n",
        "\n",
        "a = a.upper()\n",
        "print(a)\n",
        "\n",
        "a = a.lower()\n",
        "print(a)"
      ],
      "metadata": {
        "colab": {
          "base_uri": "https://localhost:8080/"
        },
        "id": "Jcbotie5Tv3R",
        "outputId": "2ff57dd9-7160-40e9-84c4-4c18f8a076dd"
      },
      "execution_count": null,
      "outputs": [
        {
          "output_type": "stream",
          "name": "stdout",
          "text": [
            "OLA MUNDO!!!\n",
            "ola mundo!!!\n"
          ]
        }
      ]
    },
    {
      "cell_type": "markdown",
      "source": [
        "### Trocar uma string por outra"
      ],
      "metadata": {
        "id": "HKsDJ0SRWyW-"
      }
    },
    {
      "cell_type": "code",
      "source": [
        "## Trocar com uma string por outra\n",
        "\n",
        "# função replace\n",
        "frase = 'artur borracheiro'\n",
        "                  ## str antiga str nova\n",
        "print(frase.replace('artur', 'joao'))"
      ],
      "metadata": {
        "colab": {
          "base_uri": "https://localhost:8080/"
        },
        "id": "IUq6QEtiT9C1",
        "outputId": "39f272de-d078-4d47-ae45-d95ca446138b"
      },
      "execution_count": null,
      "outputs": [
        {
          "output_type": "stream",
          "name": "stdout",
          "text": [
            "joao borracheiro\n"
          ]
        }
      ]
    },
    {
      "cell_type": "markdown",
      "source": [
        "### Separar uma string por algo em comum"
      ],
      "metadata": {
        "id": "NdAKbemgW_l1"
      }
    },
    {
      "cell_type": "code",
      "source": [
        "# função split separa uma string por algum elemento em comum e retorna uma lista de strings separadas\n",
        "data = '1/1/2001'\n",
        "print(data.split('/'))"
      ],
      "metadata": {
        "colab": {
          "base_uri": "https://localhost:8080/"
        },
        "id": "1KQWGzQrXEy6",
        "outputId": "ffd3abe8-f931-4c90-88d7-73ae552e45c7"
      },
      "execution_count": null,
      "outputs": [
        {
          "output_type": "stream",
          "name": "stdout",
          "text": [
            "['1', '1', '2001']\n"
          ]
        }
      ]
    },
    {
      "cell_type": "markdown",
      "source": [
        "### Encontrar um caractere"
      ],
      "metadata": {
        "id": "mJ-RBnxuXKQE"
      }
    },
    {
      "cell_type": "code",
      "source": [
        "# função find retorna o indice da string que está o item a ser encontrado \n",
        "desafio = 'DJASIODHSAUODHSADOSUAGDSIAJDAYAGSDAKBSDKABSH1SHAUKDGASHDKBSADHSIAGDASDIADHASUOHDJSANJLS' ## encontre o número 1\n",
        "print(desafio.find('1'))\n",
        "print(desafio[desafio.find('1')])"
      ],
      "metadata": {
        "colab": {
          "base_uri": "https://localhost:8080/"
        },
        "id": "pSveJrs4XNJf",
        "outputId": "99d6fd54-e21f-4b44-b133-d34157234100"
      },
      "execution_count": null,
      "outputs": [
        {
          "output_type": "stream",
          "name": "stdout",
          "text": [
            "44\n",
            "1\n"
          ]
        }
      ]
    },
    {
      "cell_type": "markdown",
      "source": [
        "## Condicionais:"
      ],
      "metadata": {
        "id": "xi29pX11XjhY"
      }
    },
    {
      "cell_type": "code",
      "source": [
        "a = int(input('Digite um valor entre 0 a 100: '))\n",
        "\n",
        "if a > 50:\n",
        "    print(\"maior que 50\")\n",
        "## else if\n",
        "elif a < 50:\n",
        "    print(\"menor que 50\")\n",
        "else:\n",
        "    print(\"igual a 50\")"
      ],
      "metadata": {
        "id": "OgI2o9zSXi2x",
        "colab": {
          "base_uri": "https://localhost:8080/"
        },
        "outputId": "e97c8e06-b247-4607-e1d3-3e70a3dbd2e9"
      },
      "execution_count": null,
      "outputs": [
        {
          "output_type": "stream",
          "name": "stdout",
          "text": [
            "Digite um valor entre 0 a 100: 80\n",
            "maior que 50\n"
          ]
        }
      ]
    },
    {
      "cell_type": "markdown",
      "source": [
        "### Operador AND / OR"
      ],
      "metadata": {
        "id": "_YNDKTZYXkKy"
      }
    },
    {
      "cell_type": "code",
      "source": [
        "if 0 < a < 1000:\n",
        "    print('entre 0 a 1000')\n",
        "\n",
        "#a = -100\n",
        "b = -100\n",
        "\n",
        "if a > 0 and b < 0:\n",
        "    print('A é positivo **E** b é negativo')\n",
        "\n",
        "if a > 0 or b > 0:\n",
        "    print('A é positivo **OU** B é positivo')\n"
      ],
      "metadata": {
        "colab": {
          "base_uri": "https://localhost:8080/"
        },
        "id": "AwtRiCX-4QWG",
        "outputId": "2b3ef221-76e3-41e1-f262-033225a0095f"
      },
      "execution_count": null,
      "outputs": [
        {
          "output_type": "stream",
          "name": "stdout",
          "text": [
            "entre 0 a 1000\n",
            "A é positivo **E** b é negativo\n",
            "A é positivo **OU** B é positivo\n"
          ]
        }
      ]
    },
    {
      "cell_type": "markdown",
      "source": [
        "## Loops:"
      ],
      "metadata": {
        "id": "bR8ShXo-XnmJ"
      }
    },
    {
      "cell_type": "markdown",
      "source": [
        "### Função range"
      ],
      "metadata": {
        "id": "-GQuhmBkYJrh"
      }
    },
    {
      "cell_type": "code",
      "source": [
        "#range() é exclusivo, ou seja, o último valor não é incluído\n",
        "\n",
        "print(\"Loop for por uma faixa de valores 0-5:\")\n",
        "for i in range(5):\n",
        "    print(i)"
      ],
      "metadata": {
        "colab": {
          "base_uri": "https://localhost:8080/"
        },
        "id": "ahNMpzEsYLg6",
        "outputId": "c2ca3bd2-f297-4dcf-be66-d6ae48edc041"
      },
      "execution_count": null,
      "outputs": [
        {
          "output_type": "stream",
          "name": "stdout",
          "text": [
            "range(0, 5)\n",
            "Loop for por uma faixa de valores 0-5:\n",
            "0\n",
            "1\n",
            "2\n",
            "3\n",
            "4\n"
          ]
        }
      ]
    },
    {
      "cell_type": "code",
      "source": [
        "print(\"Loop for por uma faixa de valores 100-110 andando de 2 em 2:\")\n",
        "for i in range(100,111,10):\n",
        "    print(i)\n"
      ],
      "metadata": {
        "id": "r6Scrc8mYPzD",
        "colab": {
          "base_uri": "https://localhost:8080/"
        },
        "outputId": "a4b1acde-f743-4773-d268-756cfe280b17"
      },
      "execution_count": null,
      "outputs": [
        {
          "output_type": "stream",
          "name": "stdout",
          "text": [
            "Loop for por uma faixa de valores 100-110 andando de 2 em 2:\n",
            "100\n",
            "110\n"
          ]
        }
      ]
    },
    {
      "cell_type": "markdown",
      "source": [
        "### While"
      ],
      "metadata": {
        "id": "6Vy-ajoPYe3F"
      }
    },
    {
      "cell_type": "code",
      "source": [
        "print(\"Loop while:\")\n",
        "i = 0\n",
        "j = 0\n",
        "while i < 5:\n",
        "    print(i)\n",
        "    i += 1 \n",
        "    while j < 5:\n",
        "        print(j)\n",
        "        j += 1"
      ],
      "metadata": {
        "id": "A1arfCMJXtns",
        "colab": {
          "base_uri": "https://localhost:8080/"
        },
        "outputId": "204ab386-0b8d-4600-9b3d-cd03e2253e39"
      },
      "execution_count": null,
      "outputs": [
        {
          "output_type": "stream",
          "name": "stdout",
          "text": [
            "Loop while:\n",
            "0\n",
            "0\n",
            "1\n",
            "2\n",
            "3\n",
            "4\n",
            "1\n",
            "2\n",
            "3\n",
            "4\n"
          ]
        }
      ]
    },
    {
      "cell_type": "markdown",
      "source": [
        "## Estrutura de dados (listas, tuplas, dicionários):"
      ],
      "metadata": {
        "id": "bPfpo6lTXxCZ"
      }
    },
    {
      "cell_type": "markdown",
      "source": [
        "### Lista:"
      ],
      "metadata": {
        "id": "mWVgE1uI6Dr2"
      }
    },
    {
      "cell_type": "markdown",
      "source": [
        "#### Notação\n",
        "\n",
        "Uma Lista em Python nada mais é que uma coleção de valores separados por vígula entre colchetes."
      ],
      "metadata": {
        "id": "x_XHelUQY37G"
      }
    },
    {
      "cell_type": "code",
      "source": [
        "lista = []\n",
        "print(lista)\n",
        "\n",
        "lista = [1,2,'3',a,5]\n",
        "print(lista)"
      ],
      "metadata": {
        "id": "jIXxH5r7X1eT",
        "colab": {
          "base_uri": "https://localhost:8080/"
        },
        "outputId": "eccf4dc6-ab49-45a0-8270-00eb2a0cec89"
      },
      "execution_count": null,
      "outputs": [
        {
          "output_type": "stream",
          "name": "stdout",
          "text": [
            "[]\n",
            "[1, 2, '3', 80, 5]\n"
          ]
        }
      ]
    },
    {
      "cell_type": "markdown",
      "source": [
        "Notação de índice:"
      ],
      "metadata": {
        "id": "qgAQ5lu_6Mx0"
      }
    },
    {
      "cell_type": "code",
      "source": [
        "print(lista[0], lista[1]) ## primeiro e segundo\n",
        "print(lista[-1], lista[-2]) ## ultimo e penultimo"
      ],
      "metadata": {
        "colab": {
          "base_uri": "https://localhost:8080/"
        },
        "id": "bj1fUi5kZEi6",
        "outputId": "c1a1a48a-9b16-4c71-bda5-84a5d0c897ca"
      },
      "execution_count": null,
      "outputs": [
        {
          "output_type": "stream",
          "name": "stdout",
          "text": [
            "1 2\n",
            "5 80\n"
          ]
        }
      ]
    },
    {
      "cell_type": "markdown",
      "source": [
        "#### Modificar e adicionar elementos da lista"
      ],
      "metadata": {
        "id": "zKGiZ6d-Y-uM"
      }
    },
    {
      "cell_type": "code",
      "source": [
        "## modificando a lista\n",
        "lista[-1] = 4.9\n",
        "\n",
        "## adicionar no final\n",
        "lista.append(6)\n",
        "print(lista)"
      ],
      "metadata": {
        "id": "udeY1SOd6RAn",
        "colab": {
          "base_uri": "https://localhost:8080/"
        },
        "outputId": "112add26-06a6-4e68-842b-14a95ba89cb9"
      },
      "execution_count": null,
      "outputs": [
        {
          "output_type": "stream",
          "name": "stdout",
          "text": [
            "[1, 2, '3', 80, 4.9, 6]\n"
          ]
        }
      ]
    },
    {
      "cell_type": "markdown",
      "source": [
        "#### Corte de listas:"
      ],
      "metadata": {
        "id": "aLBupDF_628Q"
      }
    },
    {
      "cell_type": "code",
      "source": [
        "## atalhos na lista ':'\n",
        "print(lista[1:3]) ## de onde até onde\n",
        "print(lista[:-1])"
      ],
      "metadata": {
        "id": "yx5-Pu5865QW",
        "colab": {
          "base_uri": "https://localhost:8080/"
        },
        "outputId": "7feb2d4d-aacd-48a6-db9d-068ec277f5e5"
      },
      "execution_count": null,
      "outputs": [
        {
          "output_type": "stream",
          "name": "stdout",
          "text": [
            "[2, '3']\n",
            "[1, 2, '3', 80, 4.9]\n"
          ]
        }
      ]
    },
    {
      "cell_type": "markdown",
      "source": [
        "#### Inserir, remover e deletar elementos:"
      ],
      "metadata": {
        "id": "iE_gVs7B7GWE"
      }
    },
    {
      "cell_type": "code",
      "source": [
        "## adicionar em alguma posição\n",
        "lista.insert(2, 'python') ## posicao, valor\n",
        "print(lista)\n",
        "\n",
        "## removendo o elemento por nome\n",
        "lista.remove('python')\n",
        "print(lista)\n",
        "\n",
        "## removendo o elemento por index\n",
        "del lista[-1]\n",
        "print(lista)"
      ],
      "metadata": {
        "id": "45PbQKNd7M89",
        "colab": {
          "base_uri": "https://localhost:8080/"
        },
        "outputId": "c3f46024-0bce-49d6-cd4f-c60470583595"
      },
      "execution_count": null,
      "outputs": [
        {
          "output_type": "stream",
          "name": "stdout",
          "text": [
            "[1, 2, 'python', '3', 80, 4.9, 6]\n",
            "[1, 2, '3', 80, 4.9, 6]\n",
            "[1, 2, '3', 80, 4.9]\n"
          ]
        }
      ]
    },
    {
      "cell_type": "markdown",
      "source": [
        "#### Ordenar:"
      ],
      "metadata": {
        "id": "kZRzCs1Q7XkT"
      }
    },
    {
      "cell_type": "code",
      "source": [
        "## ordenar lista\n",
        "nomes = ['carlos', 'ana', 'bruno', 'diego']\n",
        "nomes.sort() ## timsort, pior caso O(nlogn)\n",
        "print(nomes)\n"
      ],
      "metadata": {
        "id": "s4IWiVfY7YuD",
        "colab": {
          "base_uri": "https://localhost:8080/"
        },
        "outputId": "9cac3aaf-c86f-4acd-8ee1-22388b8c77e5"
      },
      "execution_count": null,
      "outputs": [
        {
          "output_type": "stream",
          "name": "stdout",
          "text": [
            "['ana', 'bruno', 'carlos', 'diego']\n"
          ]
        }
      ]
    },
    {
      "cell_type": "markdown",
      "source": [
        "#### Tamanho de uma lista\n"
      ],
      "metadata": {
        "id": "pUskl18-aVWa"
      }
    },
    {
      "cell_type": "code",
      "source": [
        "tam = len(nomes)\n",
        "print(tam)"
      ],
      "metadata": {
        "colab": {
          "base_uri": "https://localhost:8080/"
        },
        "id": "kECVBO2-aeuZ",
        "outputId": "ccc4d767-c3fb-4b6b-a324-9a4c000270cd"
      },
      "execution_count": null,
      "outputs": [
        {
          "output_type": "stream",
          "name": "stdout",
          "text": [
            "4\n"
          ]
        }
      ]
    },
    {
      "cell_type": "markdown",
      "source": [
        "#### operações com lista\n"
      ],
      "metadata": {
        "id": "mOeI_UxbaicF"
      }
    },
    {
      "cell_type": "code",
      "source": [
        "novaLista = lista + nomes ## concatenação\n",
        "print(novaLista) \n",
        "\n",
        "\n",
        "zeros = [0,1] * 10 ## concatenação x vezes\n",
        "print(zeros, len(zeros))"
      ],
      "metadata": {
        "colab": {
          "base_uri": "https://localhost:8080/"
        },
        "id": "XQ3AAeu5am9W",
        "outputId": "ee6605bb-a98b-4262-ad8f-b975e53d175f"
      },
      "execution_count": null,
      "outputs": [
        {
          "output_type": "stream",
          "name": "stdout",
          "text": [
            "[1, 2, '3', 80, 4.9, 'ana', 'bruno', 'carlos', 'diego']\n",
            "[0, 1, 0, 1, 0, 1, 0, 1, 0, 1, 0, 1, 0, 1, 0, 1, 0, 1, 0, 1] 20\n"
          ]
        }
      ]
    },
    {
      "cell_type": "markdown",
      "source": [
        "#### Loop em uma lista:\n"
      ],
      "metadata": {
        "id": "EAs9w6Km7hLr"
      }
    },
    {
      "cell_type": "code",
      "source": [
        "## for clássico\n",
        "for i in range(0, len(nomes),2):\n",
        "    print(f'{i}, {nomes[i]}') \n"
      ],
      "metadata": {
        "colab": {
          "base_uri": "https://localhost:8080/"
        },
        "id": "rOWeuJaWalXa",
        "outputId": "e6c91780-07e7-4e4d-ba02-fdc57e48f908"
      },
      "execution_count": null,
      "outputs": [
        {
          "output_type": "stream",
          "name": "stdout",
          "text": [
            "0, ana\n",
            "2, carlos\n"
          ]
        }
      ]
    },
    {
      "cell_type": "code",
      "source": [
        "## for em uma lista\n",
        "for nome in nomes:\n",
        "    print(nome)"
      ],
      "metadata": {
        "colab": {
          "base_uri": "https://localhost:8080/"
        },
        "id": "eWHFAjzDA0xJ",
        "outputId": "981180ce-b989-4209-a7de-7591f3c4ecee"
      },
      "execution_count": null,
      "outputs": [
        {
          "output_type": "stream",
          "name": "stdout",
          "text": [
            "ana\n",
            "bruno\n",
            "carlos\n",
            "diego\n"
          ]
        }
      ]
    },
    {
      "cell_type": "code",
      "source": [
        "## string é uma lista de caracteres\n",
        "nome = 'valdir mototaxi'\n",
        "for char in nome:\n",
        "    print(char, end = '-')\n",
        "\n"
      ],
      "metadata": {
        "colab": {
          "base_uri": "https://localhost:8080/"
        },
        "id": "8co6Leckav1b",
        "outputId": "d4f587db-345d-4ff4-d1aa-2cb83aad4f24"
      },
      "execution_count": null,
      "outputs": [
        {
          "output_type": "stream",
          "name": "stdout",
          "text": [
            "v-a-l-d-i-r- -m-o-t-o-t-a-x-i-\n",
            "\n",
            "\n",
            "anabruno"
          ]
        }
      ]
    },
    {
      "cell_type": "markdown",
      "source": [
        "### Exercício 01\n",
        "\n",
        "Iterar sobre uma lista qualquer.\n",
        "\n",
        "Exemplo:\n",
        "lista01 = [1,2,3,4,5,6,7,'fdjsk', \"jdkslaçfjlk\"]\n",
        "for lista 01."
      ],
      "metadata": {
        "id": "k4N7QNgiA1e_"
      }
    },
    {
      "cell_type": "code",
      "source": [
        "lista01 = [1,2,3,4,5,6,7,'fdjsk', \"jdkslaçfjlk\"]\n",
        "\n",
        "for i in lista01:\n",
        "    print(i)\n"
      ],
      "metadata": {
        "colab": {
          "base_uri": "https://localhost:8080/"
        },
        "id": "3ThDOR8LCSPB",
        "outputId": "e63a1ae0-a5bb-4934-834e-58b4681025b4"
      },
      "execution_count": null,
      "outputs": [
        {
          "output_type": "stream",
          "name": "stdout",
          "text": [
            "1\n",
            "2\n",
            "3\n",
            "4\n",
            "5\n",
            "6\n",
            "7\n",
            "fdjsk\n",
            "jdkslaçfjlk\n"
          ]
        }
      ]
    },
    {
      "cell_type": "markdown",
      "source": [
        "### Tuplas:\n"
      ],
      "metadata": {
        "id": "IFWh6VtJ7lJ3"
      }
    },
    {
      "cell_type": "markdown",
      "source": [
        "#### Notação\n",
        "\n",
        "Tuplas são, em linhas simples, listas imutáveis:"
      ],
      "metadata": {
        "id": "pU7kKVcKbJtz"
      }
    },
    {
      "cell_type": "code",
      "source": [
        "tupla = ()\n",
        "print(tupla)\n",
        "\n",
        "tupla = (1, 2, 3, 4, 5)\n",
        "print(tupla)\n",
        "\n"
      ],
      "metadata": {
        "colab": {
          "base_uri": "https://localhost:8080/"
        },
        "id": "DizTvCLyCmWV",
        "outputId": "d1c5001a-a8c0-4b18-87d0-a9fd40d9ff89"
      },
      "execution_count": null,
      "outputs": [
        {
          "output_type": "stream",
          "name": "stdout",
          "text": [
            "()\n",
            "(1, 2, 3, 4, 5)\n"
          ]
        }
      ]
    },
    {
      "cell_type": "markdown",
      "source": [
        "#### Notação de indice"
      ],
      "metadata": {
        "id": "bKgGTbXgbTXy"
      }
    },
    {
      "cell_type": "code",
      "source": [
        "print(tupla[1], tupla[2])\n",
        "print(tupla[-1], tupla[-2])\n",
        "\n",
        "\n",
        "print(tupla[1:])\n",
        "print(tupla[:-1])"
      ],
      "metadata": {
        "colab": {
          "base_uri": "https://localhost:8080/"
        },
        "id": "ZIqqnvmNbOFf",
        "outputId": "f8589582-3dc5-4d68-da4a-7d30757bc3d8"
      },
      "execution_count": null,
      "outputs": [
        {
          "output_type": "stream",
          "name": "stdout",
          "text": [
            "2 3\n",
            "5 4\n",
            "(2, 3, 4, 5)\n",
            "(1, 2, 3, 4)\n"
          ]
        }
      ]
    },
    {
      "cell_type": "markdown",
      "source": [
        "#### Alterando elementos"
      ],
      "metadata": {
        "id": "gmWO3Ee8bWU6"
      }
    },
    {
      "cell_type": "code",
      "source": [
        "## erro\n",
        "\n",
        "#tupla[-1] = 4.5\n",
        "tupla.append(6)\n"
      ],
      "metadata": {
        "id": "s9MV93CIbYlg",
        "colab": {
          "base_uri": "https://localhost:8080/",
          "height": 204
        },
        "outputId": "c5c462e9-ebfa-48d1-84ae-61384b35a064"
      },
      "execution_count": null,
      "outputs": [
        {
          "output_type": "error",
          "ename": "AttributeError",
          "evalue": "ignored",
          "traceback": [
            "\u001b[0;31m---------------------------------------------------------------------------\u001b[0m",
            "\u001b[0;31mAttributeError\u001b[0m                            Traceback (most recent call last)",
            "\u001b[0;32m<ipython-input-37-9db7517b9e60>\u001b[0m in \u001b[0;36m<module>\u001b[0;34m\u001b[0m\n\u001b[1;32m      2\u001b[0m \u001b[0;34m\u001b[0m\u001b[0m\n\u001b[1;32m      3\u001b[0m \u001b[0;31m#tupla[-1] = 4.5\u001b[0m\u001b[0;34m\u001b[0m\u001b[0;34m\u001b[0m\u001b[0;34m\u001b[0m\u001b[0m\n\u001b[0;32m----> 4\u001b[0;31m \u001b[0mtupla\u001b[0m\u001b[0;34m.\u001b[0m\u001b[0mappend\u001b[0m\u001b[0;34m(\u001b[0m\u001b[0;36m6\u001b[0m\u001b[0;34m)\u001b[0m\u001b[0;34m\u001b[0m\u001b[0;34m\u001b[0m\u001b[0m\n\u001b[0m",
            "\u001b[0;31mAttributeError\u001b[0m: 'tuple' object has no attribute 'append'"
          ]
        }
      ]
    },
    {
      "cell_type": "markdown",
      "source": [
        "### Dicionários\n"
      ],
      "metadata": {
        "id": "dcbn5uPL7qWG"
      }
    },
    {
      "cell_type": "markdown",
      "source": [
        "#### Notação\n",
        "\n",
        "São como listas de associação \"chave:valor\"."
      ],
      "metadata": {
        "id": "NcSoRb0VcB0_"
      }
    },
    {
      "cell_type": "code",
      "source": [
        "## dicionario\n",
        "dicionario = {\n",
        "    'gato': 'cat',\n",
        "    'cachorro': 'dog',\n",
        "    'one': 1\n",
        "} ## chave : valor\n",
        "\n",
        "\n",
        "# ver todo o dicionario\n",
        "print(dicionario)\n"
      ],
      "metadata": {
        "colab": {
          "base_uri": "https://localhost:8080/"
        },
        "id": "GRCFwwRLfPQv",
        "outputId": "e9e73cf9-c100-4851-a827-84e921339fc0"
      },
      "execution_count": null,
      "outputs": [
        {
          "output_type": "stream",
          "name": "stdout",
          "text": [
            "{'gato': 'cat', 'cachorro': 'dog', 'one': 1}\n"
          ]
        }
      ]
    },
    {
      "cell_type": "markdown",
      "source": [
        "#### chaves e valores"
      ],
      "metadata": {
        "id": "l9trnxx3cIiW"
      }
    },
    {
      "cell_type": "code",
      "source": [
        "## ver apenas um elemento do dicionario\n",
        "print(dicionario['gato'])\n",
        "\n",
        "## ver todas as chaves\n",
        "print(dicionario.keys())\n",
        "\n",
        "## ver todas os valores (essas funções retornam uma lista com as respectivas chaves ou valores)\n",
        "print(dicionario.values())\n"
      ],
      "metadata": {
        "colab": {
          "base_uri": "https://localhost:8080/"
        },
        "id": "DjHDRz7jcM6U",
        "outputId": "d97be94b-1d92-45b2-9d10-e539b38c541b"
      },
      "execution_count": null,
      "outputs": [
        {
          "output_type": "stream",
          "name": "stdout",
          "text": [
            "cat\n",
            "dict_keys(['gato', 'cachorro', 'one'])\n",
            "dict_values(['cat', 'dog', 1])\n"
          ]
        }
      ]
    },
    {
      "cell_type": "markdown",
      "source": [
        "#### Iteração em dicionários"
      ],
      "metadata": {
        "id": "MFT-VS82cRTc"
      }
    },
    {
      "cell_type": "code",
      "source": [
        "## fazendo o for de um unico campo\n",
        "for valor in dicionario.values():\n",
        "    print(valor)\n"
      ],
      "metadata": {
        "colab": {
          "base_uri": "https://localhost:8080/"
        },
        "id": "IueMa2k0cWjP",
        "outputId": "31c633b7-6ce6-4dcc-93fd-0b7c111a79aa"
      },
      "execution_count": null,
      "outputs": [
        {
          "output_type": "stream",
          "name": "stdout",
          "text": [
            "cat\n",
            "dog\n",
            "1\n"
          ]
        }
      ]
    },
    {
      "cell_type": "code",
      "source": [
        "for chave in dicionario.keys():\n",
        "    print(f'{chave} - > {dicionario[chave]}')\n"
      ],
      "metadata": {
        "colab": {
          "base_uri": "https://localhost:8080/"
        },
        "id": "GfkzWiXccZ_B",
        "outputId": "d8a55b8c-a36b-4471-a7f5-8390f4985c56"
      },
      "execution_count": null,
      "outputs": [
        {
          "output_type": "stream",
          "name": "stdout",
          "text": [
            "gato - > cat\n",
            "cachorro - > dog\n",
            "one - > 1\n"
          ]
        }
      ]
    },
    {
      "cell_type": "code",
      "source": [
        "## fazendo o for de ambos os campos\n",
        "for chave, valor in dicionario.items():\n",
        "    print(f'{chave} -> {valor}')\n"
      ],
      "metadata": {
        "colab": {
          "base_uri": "https://localhost:8080/"
        },
        "id": "YQH-f8s6ccUx",
        "outputId": "298f2aff-f483-4100-c60a-008d668b69f8"
      },
      "execution_count": null,
      "outputs": [
        {
          "output_type": "stream",
          "name": "stdout",
          "text": [
            "gato -> cat\n",
            "cachorro -> dog\n",
            "one -> 1\n"
          ]
        }
      ]
    },
    {
      "cell_type": "markdown",
      "source": [
        "#### Adicionar e remover elementos"
      ],
      "metadata": {
        "id": "2Jy6aD6Gce6-"
      }
    },
    {
      "cell_type": "code",
      "source": [
        "## adicionando mais coisas ao dicionario\n",
        "dicionario['copo'] = 'glass'\n",
        "print(dicionario)\n",
        "\n",
        "## remover algum valor no dicionario\n",
        "del dicionario['copo']\n",
        "print(dicionario)"
      ],
      "metadata": {
        "colab": {
          "base_uri": "https://localhost:8080/"
        },
        "id": "bjEj6wMBcg9X",
        "outputId": "ff7fc2e3-e384-4290-ecbd-f41315eb4e9e"
      },
      "execution_count": null,
      "outputs": [
        {
          "output_type": "stream",
          "name": "stdout",
          "text": [
            "{'gato': 'cat', 'cachorro': 'dog', 'one': 1, 'copo': 'glass'}\n",
            "{'gato': 'cat', 'cachorro': 'dog', 'one': 1}\n"
          ]
        }
      ]
    },
    {
      "cell_type": "code",
      "source": [
        "matriz = [ [1, 2, 3],\n",
        "           [4, 5, 6],\n",
        "           [7, 8, 9] ]\n",
        "\n",
        "for linha in matriz:\n",
        "    for elemento in linha:\n",
        "        print(elemento, end = ' ')"
      ],
      "metadata": {
        "colab": {
          "base_uri": "https://localhost:8080/"
        },
        "id": "UJljUmisGZFI",
        "outputId": "4bcf3199-ea95-45ed-bb4f-b57edb686be3"
      },
      "execution_count": null,
      "outputs": [
        {
          "output_type": "stream",
          "name": "stdout",
          "text": [
            "1 2 3 4 5 6 7 8 9 "
          ]
        }
      ]
    },
    {
      "cell_type": "markdown",
      "source": [
        "### Funções:\n",
        "\n",
        "Assim como na maioria das linguagens de programação, funções tem o intuito de encapsular partes do código a fim de evitar repetições.\n"
      ],
      "metadata": {
        "id": "XrvMCvQUXcwm"
      }
    },
    {
      "cell_type": "code",
      "source": [
        "def soma(a:int,b:int) -> int:\n",
        "    return a + b\n",
        "\n",
        "\n",
        "a = int(input('Digite o valor de a: '))\n",
        "b = int(input('Digite o valor de b: '))\n",
        "\n",
        "print(f\"Soma de {a} + {b} é:\", soma(b=a, a=b))"
      ],
      "metadata": {
        "id": "SpiHdYfIXfQi",
        "colab": {
          "base_uri": "https://localhost:8080/"
        },
        "outputId": "052f6db3-7c5b-4973-d152-108c193ce73f"
      },
      "execution_count": null,
      "outputs": [
        {
          "output_type": "stream",
          "name": "stdout",
          "text": [
            "Digite o valor de a: 330\n",
            "Digite o valor de b: 1\n",
            "Soma de 330 + 1 é: 331\n"
          ]
        }
      ]
    },
    {
      "cell_type": "markdown",
      "source": [
        "#### Funções lambda (funções anônimas):\n",
        "\n",
        "São funções simples de uma linha apenas que, em suma, são funções que não necessitam de declaração."
      ],
      "metadata": {
        "id": "yq1TdFnFX4NQ"
      }
    },
    {
      "cell_type": "code",
      "source": [
        "soma = lambda x,y: x+y\n",
        "\n",
        "soma(2,3)"
      ],
      "metadata": {
        "id": "vYFBozMuX4Uy",
        "colab": {
          "base_uri": "https://localhost:8080/"
        },
        "outputId": "d119061a-28ff-4510-b8bb-f079b189731a"
      },
      "execution_count": null,
      "outputs": [
        {
          "output_type": "execute_result",
          "data": {
            "text/plain": [
              "5"
            ]
          },
          "metadata": {},
          "execution_count": 36
        }
      ]
    },
    {
      "cell_type": "markdown",
      "source": [
        "### Escopo de variáveis"
      ],
      "metadata": {
        "id": "_R8LAXv2to-m"
      }
    },
    {
      "cell_type": "code",
      "source": [
        "## variaveis globais e escopos de variaveis\n",
        "def teste_global():\n",
        "    ## dizendo que a variavel y é global. Portanto, qualquer alteração que fizer nessa função também ocorre fora dela\n",
        "    global y\n",
        "    y = 21\n",
        "\n",
        "## antes da alteração\n",
        "y = 1\n",
        "print(y)\n",
        "teste_global()\n",
        "## depois da alteração\n",
        "print(y)"
      ],
      "metadata": {
        "colab": {
          "base_uri": "https://localhost:8080/"
        },
        "id": "cHrNWHz13Gmj",
        "outputId": "d939f4d3-edad-4bb1-9dc8-4b01a571294c"
      },
      "execution_count": null,
      "outputs": [
        {
          "output_type": "stream",
          "name": "stdout",
          "text": [
            "1\n",
            "21\n"
          ]
        }
      ]
    },
    {
      "cell_type": "markdown",
      "source": [
        "## List Comprehension:\n",
        "\n",
        "Uma sintaxe que oferece uma forma mais \"Pythonica\" e alternativa de realizar alguns tipos de loops."
      ],
      "metadata": {
        "id": "UOphqsPDYAin"
      }
    },
    {
      "cell_type": "markdown",
      "source": [
        "### Listas"
      ],
      "metadata": {
        "id": "n2951DHHdKsX"
      }
    },
    {
      "cell_type": "markdown",
      "source": [
        "#### Notação"
      ],
      "metadata": {
        "id": "ezHBI7qfdODJ"
      }
    },
    {
      "cell_type": "code",
      "source": [
        "## um jeito de fazer\n",
        "quadrado1 = []\n",
        "for i in range(1, 11):\n",
        "    quadrado1.append(i**2)\n",
        "\n",
        "\n",
        "## list comprehesion\n",
        "quadrado2 = [j**2 for j in range(1, 11)]\n",
        "\n",
        "print(quadrado1)\n",
        "print(quadrado2)"
      ],
      "metadata": {
        "id": "jF9NuXE_YNaX",
        "colab": {
          "base_uri": "https://localhost:8080/"
        },
        "outputId": "b2d31a6b-6a8e-40b9-e6b5-700609d42d49"
      },
      "execution_count": null,
      "outputs": [
        {
          "output_type": "stream",
          "name": "stdout",
          "text": [
            "[1, 4, 9, 16, 25, 36, 49, 64, 81, 100]\n",
            "[1, 4, 9, 16, 25, 36, 49, 64, 81, 100]\n"
          ]
        }
      ]
    },
    {
      "cell_type": "markdown",
      "source": [
        "#### Aumentando a complexidade com condicionais"
      ],
      "metadata": {
        "id": "1g8SqhI0dV45"
      }
    },
    {
      "cell_type": "code",
      "source": [
        "## adicionando complexidade com um if\n",
        "quadrado_par = [j**2 for j in range(1, 11) if j % 2 == 0]\n",
        "print(quadrado_par)"
      ],
      "metadata": {
        "colab": {
          "base_uri": "https://localhost:8080/"
        },
        "id": "-phesHRFdZqE",
        "outputId": "13feec8b-6cb8-4945-f724-5748a3af47e9"
      },
      "execution_count": null,
      "outputs": [
        {
          "output_type": "stream",
          "name": "stdout",
          "text": [
            "[4, 16, 36, 64, 100]\n"
          ]
        }
      ]
    },
    {
      "cell_type": "markdown",
      "source": [
        "### Dicionários"
      ],
      "metadata": {
        "id": "Tskq_b4ndcKf"
      }
    },
    {
      "cell_type": "markdown",
      "source": [
        "#### Notação"
      ],
      "metadata": {
        "id": "J0c-JmSZdmdr"
      }
    },
    {
      "cell_type": "code",
      "source": [
        "## mesma coisa com dict\n",
        "quadrado_impar = {j:j**2 for j in range(1, 11) if j%2 == 1}\n",
        "print(quadrado_impar)"
      ],
      "metadata": {
        "colab": {
          "base_uri": "https://localhost:8080/"
        },
        "id": "22R0HbvideJr",
        "outputId": "cc4156e9-5a75-4c46-d6e3-56152b68fee5"
      },
      "execution_count": null,
      "outputs": [
        {
          "output_type": "stream",
          "name": "stdout",
          "text": [
            "{1: 1, 3: 9, 5: 25, 7: 49, 9: 81}\n"
          ]
        }
      ]
    },
    {
      "cell_type": "markdown",
      "source": [
        "## Orientação à Objetos:\n",
        "\n",
        "A palavra “self” é uma equivalência à palavra “this” em Java, por exemplo. É necessário seu uso como parâmetro em métodos para deixar explícito a instância do objeto.\n",
        "\n",
        "A linguagem não possui atributos e métodos verdadeiramente privados. A linguagem oferece uma maneira de acessar os métodos e atributos “private” e “protected'” fora da própria classe. É necessário se atentar a isso. Por convenção uma variável precedida de ‘_’ é considerada como não-pública, vide: https://docs.python.org/3/tutorial/classes.html#private-variables.\n",
        "Os modificadores de acesso são:\n",
        "<ul>\n",
        "  <li>O modificador de acesso '__' (dois caracteres underline) define o atributo como “private”;</li>\n",
        "  <li>O modificador de acesso '_' (um caractere underline) define o atributo como “protected”;</li>\n",
        "  <li>Se o método ou atributo não tiver nenhum dos modificadores acima, será definido como “public” por padrão.</li> \n",
        "</ul>\n",
        "\n"
      ],
      "metadata": {
        "id": "_la8PPk3YMp1"
      }
    },
    {
      "cell_type": "markdown",
      "source": [
        "#### Notação"
      ],
      "metadata": {
        "id": "-XCyuk35Ux97"
      }
    },
    {
      "cell_type": "code",
      "source": [
        "class Pilha:\n",
        "    ## metodo \"contrutor\", mas na real é o inicializador\n",
        "    def __init__(self):\n",
        "        #self.__pilha = [] ## atributo protegido\n",
        "        #self._pilha = [] ## atributo privado\n",
        "        self.pilha = [] ## atributo publico\n",
        "\n",
        "    ## métodos\n",
        "    def empilhar(self, n):\n",
        "        self.pilha.append(n)\n",
        "\n",
        "\n",
        "    def desempilhar(self):\n",
        "        valor = self.pilha[-1]\n",
        "        del self.pilha[-1]\n",
        "        return valor\n",
        "\n",
        "\n",
        "    def mostrar_pilha(self):\n",
        "        print(self.pilha)\n",
        "\n",
        "\n",
        "## iniciando o objeto\n",
        "p = Pilha()\n",
        "## Usando métodos de empilhar\n",
        "p.empilhar(10)\n",
        "p.empilhar(20)\n",
        "p.empilhar(30)\n",
        "\n",
        "## Método de imprimir todos os valores\n",
        "p.mostrar_pilha()\n",
        "\n",
        "## Método de desempilhar\n",
        "p.desempilhar()\n",
        "p.mostrar_pilha()\n"
      ],
      "metadata": {
        "id": "tJGF3GBrYYxB",
        "colab": {
          "base_uri": "https://localhost:8080/"
        },
        "outputId": "5cb151f2-a78c-4a41-c33c-8c75994c0dbe"
      },
      "execution_count": null,
      "outputs": [
        {
          "output_type": "stream",
          "name": "stdout",
          "text": [
            "[10, 20, 30]\n",
            "[10, 20]\n"
          ]
        }
      ]
    },
    {
      "cell_type": "markdown",
      "source": [
        "### Herança:"
      ],
      "metadata": {
        "id": "m58W7ILjU02T"
      }
    },
    {
      "cell_type": "code",
      "source": [
        "## nova classe herdando da classe pilha\n",
        "class PilhaSomadora(Pilha):\n",
        "    def __init__(self):\n",
        "        ##pegando o \"construtor\" da outra classe\n",
        "        Pilha.__init__(self)\n",
        "        self.soma = 0\n",
        "\n",
        "    def soma(self):\n",
        "        return self.soma\n",
        "\n",
        "\n",
        "    def empilhar(self, n):\n",
        "        self.soma += n ## adicionando nova funcionalidade no método\n",
        "        Pilha.empilhar(self, n) ## chamando o método antigo\n",
        "\n",
        "\n",
        "    def desempilhar(self):\n",
        "        valor = Pilha.desempilhar(self) ## chama método antigo\n",
        "        self.soma -= valor ## adiciona nova funcionalidade\n",
        "        return valor\n",
        "\n",
        "## iniciando a classe\n",
        "p = PilhaSomadora()\n",
        "\n",
        "## método de empilhar\n",
        "p.empilhar(100)\n",
        "p.empilhar(200)\n",
        "p.empilhar(300)\n",
        "\n",
        "## metodo de imprimir todas as variaveis\n",
        "p.mostrar_pilha()\n",
        "\n",
        "## Acessando a variavel publica\n",
        "print(p.soma)\n",
        "\n",
        "## Metodo de desempilhar\n",
        "p.desempilhar()\n",
        "p.mostrar_pilha()\n",
        "\n",
        "## Acessando a variavel publica novamente\n",
        "print(p.soma)"
      ],
      "metadata": {
        "colab": {
          "base_uri": "https://localhost:8080/"
        },
        "id": "xD_5XtmumSw4",
        "outputId": "6eecda49-329a-45b3-8a20-e46dd97f121b"
      },
      "execution_count": null,
      "outputs": [
        {
          "output_type": "stream",
          "name": "stdout",
          "text": [
            "[100, 200, 300]\n",
            "600\n",
            "[100, 200]\n",
            "300\n"
          ]
        }
      ]
    },
    {
      "cell_type": "markdown",
      "source": [
        "### Decoradores:\n",
        "\n",
        "É uma forma para envolver um método, modificando seu comportamento.\n",
        "\n",
        "Segundo a PEP318 (Python Enhancement Proposal - Proposta de melhoria na linguagem Python): \n",
        "\n",
        "> ___O método atual para transformar funções e métodos (por exemplo, declarando-os como classes ou métodos estáticos) é complicado e pode levar a código que é difícil de entender. Idealmente, essas transformações devem ser feitas no mesmo ponto do código onde a própria declaração é feita. Esta PEP introduz uma nova sintaxe para transformações de uma função ou declaração de métodos.___"
      ],
      "metadata": {
        "id": "ugmAGXUYVDJT"
      }
    },
    {
      "cell_type": "code",
      "source": [
        "class Empregado:\n",
        "    def __init__(self, nome = None, sobrenome = None):\n",
        "        self.__nome = nome ## atributos protegidos. Não é possível acessar eles fora da classe\n",
        "        self.__sobrenome = sobrenome\n",
        "    \n",
        "\n",
        "    @property ## permite acessar um método como se fosse um atributo (GET), ou seja, empregado.email\n",
        "    def email(self):\n",
        "        return f'{self.__nome}.{self.__sobrenome}@gmail.com'\n",
        "\n",
        "\n",
        "    @property ## a mesma coisa, permite acessar o metodo como se fosse atributo, ou seja, empregado.nomeInteiro\n",
        "    def nomeInteiro(self):\n",
        "        return f'{self.__nome} {self.__sobrenome}'\n",
        "\n",
        "\n",
        "    @nomeInteiro.setter ## permite fazer atribuição em um método fora da classe (SET)\n",
        "    def nomeInteiro(self, nome):\n",
        "        primeiro, ultimo = nome.split(' ') ## separa os nomes pelo espaço\n",
        "        self.__nome = primeiro \n",
        "        self.__sobrenome = ultimo\n",
        "\n",
        "\n",
        "    @nomeInteiro.deleter ## deleter permite usar a operação del neste metodo nomeInteiro \n",
        "    def nomeInteiro(self):\n",
        "        print('Deletando nome...')\n",
        "        self.__nome = None\n",
        "        self.__sobrenome = None\n",
        "\n",
        "\n",
        "    @property ## get do atributo nome\n",
        "    def nome(self):\n",
        "        return self.__nome\n",
        "\n",
        "\n",
        "    @nome.setter ## set do atributo nome\n",
        "    def nome(self, n):\n",
        "        self.__nome = n\n",
        "\n",
        "\n",
        "    @property ## get do atributo sobrenome\n",
        "    def sobrenome(self):\n",
        "        return self.__sobrenome\n",
        "\n",
        "\n",
        "    @sobrenome.setter ## set do atributo sobrenome\n",
        "    def sobrenome(self, n):\n",
        "        self.__sobrenome = n\n",
        "\n",
        "\n",
        "emp = Empregado('Joao', \"Silva\") ## criando objeto empregado passando nome e sobrenome separados\n",
        "print(emp.email) ## acessando o email \n",
        "print(emp.nome) ## acessando apenas o primeiro nome\n",
        "print(emp.sobrenome) ## acessando o segundo nome\n",
        "print(emp.nomeInteiro) ## acessando o nome inteiro\n",
        "\n",
        "print()\n",
        "\n",
        "emp2 = Empregado() ## criando o objeto sem passar nenhum parametro\n",
        "emp2.nomeInteiro = 'Maria Silva' ## setando o nome inteiro direto\n",
        "print(emp2.email) ## acessando o email\n",
        "print(emp2.nome) ## acessando o primeiro nome\n",
        "print(emp2.sobrenome) ## acessando o segundo nome\n",
        "print(emp2.nomeInteiro) ## acessando o nome inteiro\n",
        "\n",
        "\n"
      ],
      "metadata": {
        "colab": {
          "base_uri": "https://localhost:8080/"
        },
        "id": "Km8ja4RDpLJR",
        "outputId": "7d33102a-b7ec-4945-f807-f8a029d3005a"
      },
      "execution_count": null,
      "outputs": [
        {
          "output_type": "stream",
          "name": "stdout",
          "text": [
            "Joao.Silva@gmail.com\n",
            "Joao\n",
            "Silva\n",
            "Joao Silva\n",
            "\n",
            "Maria.Silva@gmail.com\n",
            "Maria\n",
            "Silva\n",
            "Maria Silva\n"
          ]
        }
      ]
    },
    {
      "cell_type": "markdown",
      "source": [
        "### Métodos Mágicos (dunder)\n",
        "\n",
        "Basicamente, os métodos mágicos implementam certas operações que são chamadas com uma sintaxe espacial.</br>É uma sobrecarga de operador que pode tornar mais simples algumas operações.\n"
      ],
      "metadata": {
        "id": "pJ6AUwRsVJ-Q"
      }
    },
    {
      "cell_type": "code",
      "source": [
        "class Fracao:\n",
        "  ## construtor\n",
        "    def __init__(self, numerador, denominador):\n",
        "        self.numerador = numerador\n",
        "        \n",
        "        if denominador == 0:\n",
        "          self.denominador = 1\n",
        "        else:\n",
        "          self.denominador = denominador\n",
        "    \n",
        "    ## método para inverter numerador e denominador\n",
        "    def inverter(self):\n",
        "        return Fracao(self.denominador, self.numerador)\n",
        "    \n",
        "    ## método para trocar o sinal\n",
        "    def negar(self):\n",
        "        return Fracao(-self.numerador, self.denominador)\n",
        "    \n",
        "    ## método para somar duas frações\n",
        "    def somar(self, frac):\n",
        "        if self.denominador == frac.denominador:\n",
        "          num = self.numerador + frac.numerador\n",
        "          den = self.denominador + frac.denominador\n",
        "          return Fracao(num, den)\n",
        "    \n",
        "        else:\n",
        "          num = self.numerador * frac.denominador + frac.numerador * self.denominador\n",
        "          den = self.denominador * frac.denominador\n",
        "          return Fracao(num, den)\n",
        "    \n",
        "    ## método para subtrair duas frações\n",
        "    def subtrair(self, frac):\n",
        "        return self.somar(frac.negar())\n",
        "    \n",
        "    ## método para multiplicar duas frações\n",
        "    def multiplicar(self, frac):\n",
        "        num = self.numerador * frac.numerador\n",
        "        den = self.denominador *frac.denominador\n",
        "        return Fracao(num, den)\n",
        "    \n",
        "    ## método para dividir duas frações\n",
        "    def dividir(self, frac):\n",
        "        return self.multiplicar(frac.inverter())\n",
        "\n",
        "    ## sobrecarga de operadores\n",
        "    ## adicionar o operador '+' para \"interagir\" com objetos\n",
        "    def __add__(self, frac):\n",
        "        return self.somar(frac)\n",
        "    #a.somar(b)\n",
        "    # + b\n",
        "    ## adicionar o operador '-' para \"interagir\" com objetos -\n",
        "    def __sub__(self, frac):\n",
        "        return self.subtrair(frac)\n",
        "\n",
        "    ## adicionar o operador '*' para \"interagir\" com objetos\n",
        "    def __mul__(self, frac):\n",
        "        return self.multiplicar(frac)\n",
        "\n",
        "    ## adicionar o operador '/' para \"interagir\" com objetos\n",
        "    def __truediv__(self, frac):\n",
        "        return self.dividir(frac)\n",
        "\n",
        "    ## adicionar o operador '-' para \"interagir\" com objetos\n",
        "    def __neg__(self):\n",
        "        return self.negar()\n",
        "    \n",
        "    ## print()\n",
        "    def __str__(self):\n",
        "        return f'{self.numerador} / {self.denominador}'\n",
        "    \n",
        "    ## print em objetos mais abstratos, como listas, ou leitura diretamente no interpretador\n",
        "    def __repr__(self): ## representation\n",
        "        return f'Fracao({self.numerador}, {self.denominador})'\n",
        "\n",
        "## criando classes\n",
        "a = Fracao(4, 5)\n",
        "b = Fracao(-2, 7)\n",
        "\n",
        "## imprimindo as classes na forma de __str__ e __repr__\n",
        "print(f'fração A em str: {a}, repr: {a.__repr__()}')\n",
        "print(f'fração B em str: {b}, repr: {b.__repr__()}')"
      ],
      "metadata": {
        "colab": {
          "base_uri": "https://localhost:8080/"
        },
        "id": "k705hm_4vk9-",
        "outputId": "eec96b0c-87c4-4d1b-8e14-e569f4a2ad92"
      },
      "execution_count": null,
      "outputs": [
        {
          "output_type": "stream",
          "name": "stdout",
          "text": [
            "fração A em str: 4 / 5, repr: Fracao(4, 5)\n",
            "fração B em str: -2 / 7, repr: Fracao(-2, 7)\n"
          ]
        }
      ]
    },
    {
      "cell_type": "code",
      "source": [
        "## Operações com sobrecarga de operadores criadas\n",
        "print('negar fração A:', -a) ## __neg__\n",
        "print('soma:', a + b) ## __add__\n",
        "print('subtração:', a - b) ## __sub__\n",
        "print('multiplicação:', a * b) ## __mul__\n",
        "print('divisão:', a / b) ## __truediv__"
      ],
      "metadata": {
        "colab": {
          "base_uri": "https://localhost:8080/"
        },
        "id": "CQX38198jPbF",
        "outputId": "06b4b756-b2c8-410a-df4c-18b3c748293a"
      },
      "execution_count": null,
      "outputs": [
        {
          "output_type": "stream",
          "name": "stdout",
          "text": [
            "negar fração A: -4 / 5\n",
            "soma: 18 / 35\n",
            "subtração: 38 / 35\n",
            "multiplicação: -8 / 35\n",
            "divisão: 28 / -10\n"
          ]
        }
      ]
    },
    {
      "cell_type": "code",
      "source": [
        "class Container:\n",
        "    ## \"construtor\"\n",
        "    def __init__(self, sequencia):\n",
        "        self.sequencia = sequencia\n",
        "    \n",
        "    ## adiciona o \"operador\" in para interagir com o objeto\n",
        "    def __contains__(self, dado):\n",
        "        return dado in self.sequencia\n",
        "    \n",
        "    ## adiciona o \"operador\" len() para interagir com o objeto\n",
        "    def __len__(self):\n",
        "        return len(self.sequencia)\n",
        "\n",
        "    ## adiciona o operador de fazer o get de um elemento em uma lista, exemplo lista[pos]\n",
        "    def __getitem__(self, pos):\n",
        "        return self.sequencia[pos]\n",
        "    \n",
        "    ## adiciona o operador de iteração for para interagir com o objeto\n",
        "    def __iter__(self):\n",
        "        return self.sequencia.__iter__()\n",
        "    \n",
        "\n",
        "\n",
        "c = Container('DASIDASGHUDSAHDOSAHDSAUDHTOGUROJDAISDOYHASOUDHASUODASDAS')\n",
        "\n",
        "## __len__\n",
        "print(len(c))\n"
      ],
      "metadata": {
        "colab": {
          "base_uri": "https://localhost:8080/"
        },
        "id": "QmBOkPu0tJ-n",
        "outputId": "9845ebcd-636c-4fca-913f-5240ab299b12"
      },
      "execution_count": 45,
      "outputs": [
        {
          "output_type": "stream",
          "name": "stdout",
          "text": [
            "56\n"
          ]
        }
      ]
    },
    {
      "cell_type": "code",
      "source": [
        "## __contains__\n",
        "if 'TOGURO' in c:\n",
        "    print('EM PLENO 2022 E AS PESSOAS TEM PRECONCEITO CONTRA PYTHON')\n",
        "else:\n",
        "    print('a string não está contida')\n"
      ],
      "metadata": {
        "colab": {
          "base_uri": "https://localhost:8080/"
        },
        "id": "2K7LE2XxkK7Q",
        "outputId": "08c2f700-a51a-40d0-9bd1-b2c123d9e550"
      },
      "execution_count": null,
      "outputs": [
        {
          "output_type": "stream",
          "name": "stdout",
          "text": [
            "EM PLENO 2022 E AS PESSOAS TEM PRECONCEITO CONTRA PYTHON\n"
          ]
        }
      ]
    },
    {
      "cell_type": "code",
      "source": [
        "## __getitem__\n",
        "print(f'a letra na posição 15 é: {c[15]}')\n",
        "print(f'a frase a partir da posição 15 é: {c[15:]}')\n",
        "print(f'a frase a até a posição 15 é: {c[:15]}')\n"
      ],
      "metadata": {
        "colab": {
          "base_uri": "https://localhost:8080/"
        },
        "id": "obYi92Y2kDMS",
        "outputId": "79f2c049-4f70-4ddf-8e5a-a2e699a3329a"
      },
      "execution_count": null,
      "outputs": [
        {
          "output_type": "stream",
          "name": "stdout",
          "text": [
            "a letra na posição 15 é: O\n",
            "a frase a partir da posição 15 é: OSAHDSAUDHTOGUROJDAISDOYHASOUDHASUODASDAS\n",
            "a frase a até a posição 15 é: DASIDASGHUDSAHD\n"
          ]
        }
      ]
    },
    {
      "cell_type": "code",
      "source": [
        "## __iter__\n",
        "for char in c:\n",
        "    print(char, end = '')"
      ],
      "metadata": {
        "colab": {
          "base_uri": "https://localhost:8080/"
        },
        "id": "wX5PDDn5kQb6",
        "outputId": "65713f07-3dc2-4dde-f454-dacf32b922bc"
      },
      "execution_count": null,
      "outputs": [
        {
          "output_type": "stream",
          "name": "stdout",
          "text": [
            "DASIDASGHUDSAHDOSAHDSAUDHTOGUROJDAISDOYHASOUDHASUODASDAS"
          ]
        }
      ]
    },
    {
      "cell_type": "markdown",
      "source": [
        "## Manipulação de Arquivos\n",
        "\n"
      ],
      "metadata": {
        "id": "FpZXrrl8vP_z"
      }
    },
    {
      "cell_type": "markdown",
      "source": [
        "### Criar arquivo ou escrever em arquivos - append ou write\n",
        "\n",
        "diferenças: write reescreve os arquivos toda vez. Já o método append não, ele junta as coisas sem reescrever"
      ],
      "metadata": {
        "id": "t3mKDWQBktCF"
      }
    },
    {
      "cell_type": "code",
      "source": [
        "# função open para abrir arquivo no modo append (a)\n",
        "#append (a) nao reescreve um arquivo como write (w), ele apenas anexa\n",
        "file = open('teste.txt', 'a')\n",
        "file.write(\"Ola, Mundo!\\n\")\n",
        "\n",
        "## fecha o arquivo\n",
        "file.close()\n"
      ],
      "metadata": {
        "id": "3I_F32IIksIN"
      },
      "execution_count": 46,
      "outputs": []
    },
    {
      "cell_type": "markdown",
      "source": [
        "### Abrir arquivos - read"
      ],
      "metadata": {
        "id": "X9qqD7pUlCaO"
      }
    },
    {
      "cell_type": "code",
      "source": [
        "#abertura de arquivo\n",
        "file = open('teste.txt', 'r')\n",
        "\n",
        "#funcao que le todo o arquivo\n",
        "print(file.read())"
      ],
      "metadata": {
        "colab": {
          "base_uri": "https://localhost:8080/"
        },
        "id": "dCX-wN1FlKQp",
        "outputId": "4838ed25-fbc8-43b8-a11c-fb9168abf3cf"
      },
      "execution_count": null,
      "outputs": [
        {
          "output_type": "stream",
          "name": "stdout",
          "text": [
            "Ola, Mundo!\n",
            "\n"
          ]
        }
      ]
    },
    {
      "cell_type": "code",
      "source": [
        "#retorna linha por linha em uma lista\n",
        "file = open('teste.txt', 'r')\n",
        "print(file.readlines())\n",
        "\n",
        "file.close()"
      ],
      "metadata": {
        "colab": {
          "base_uri": "https://localhost:8080/"
        },
        "id": "dy88qQTElMLH",
        "outputId": "1eb31012-4e67-4b13-9694-24867711c6df"
      },
      "execution_count": null,
      "outputs": [
        {
          "output_type": "stream",
          "name": "stdout",
          "text": [
            "['Ola, Mundo!\\n']\n"
          ]
        }
      ]
    },
    {
      "cell_type": "code",
      "source": [
        "## outra forma de ler linha por linha de um arquivo\n",
        "file = open('teste.txt', 'r')\n",
        "for line in file:\n",
        "    print(line)\n",
        "\n",
        "file.close()\n"
      ],
      "metadata": {
        "colab": {
          "base_uri": "https://localhost:8080/"
        },
        "id": "yaIaLWOilPcq",
        "outputId": "d8c182f0-e22f-439e-95af-b8e1fe4665eb"
      },
      "execution_count": null,
      "outputs": [
        {
          "output_type": "stream",
          "name": "stdout",
          "text": [
            "Ola, Mundo!\n",
            "\n"
          ]
        }
      ]
    },
    {
      "cell_type": "markdown",
      "source": [
        "### Boas praticas para usar arquivos - with"
      ],
      "metadata": {
        "id": "_gzmUeeLlpcg"
      }
    },
    {
      "cell_type": "code",
      "source": [
        "#uma boa pratica que abre o arquivo naquele bloco e fecha quando acabar o bloco\n",
        "with open('teste.txt', 'r') as file:\n",
        "    for line in file:\n",
        "        print(line)"
      ],
      "metadata": {
        "id": "p60P--0WD0Xd",
        "colab": {
          "base_uri": "https://localhost:8080/"
        },
        "outputId": "774e4314-0234-49a9-e260-fc5da8a90823"
      },
      "execution_count": null,
      "outputs": [
        {
          "output_type": "stream",
          "name": "stdout",
          "text": [
            "Ola, Mundo!\n",
            "\n"
          ]
        }
      ]
    },
    {
      "cell_type": "markdown",
      "source": [
        "## Random"
      ],
      "metadata": {
        "id": "VqLeT-ipbLi3"
      }
    },
    {
      "cell_type": "code",
      "source": [
        "import random\n",
        "\n",
        "print(random.randint(0, 10))"
      ],
      "metadata": {
        "colab": {
          "base_uri": "https://localhost:8080/"
        },
        "id": "FaMZPbNLbVx7",
        "outputId": "6f387214-0010-4f0b-bcab-590604f9bac4"
      },
      "execution_count": 47,
      "outputs": [
        {
          "output_type": "stream",
          "name": "stdout",
          "text": [
            "2\n"
          ]
        }
      ]
    },
    {
      "cell_type": "markdown",
      "source": [
        "## Atividade 01\n",
        "\n",
        "Utilizando Orientação a Objetos e os conceitos aprendidos nessa aula, façam um jogo da forca, no qual:\n",
        "\n",
        "* as palavras devem ser lidas de um aquivo texto;\n",
        "* cada linha deve ser para uma única palavra;\n",
        "* as palavras e dicas devem estar organizadas dentro do aquivo como: \"palavra, dica\";\n",
        "\n",
        "\n",
        "Link: https://github.com/GuiBatalhoti/mini_curso_python/blob/main/forca.txt"
      ],
      "metadata": {
        "id": "PNtndYFYusrd"
      }
    },
    {
      "cell_type": "code",
      "source": [],
      "metadata": {
        "id": "wJgGAOzSw1LM"
      },
      "execution_count": null,
      "outputs": []
    }
  ],
  "metadata": {
    "kernelspec": {
      "display_name": "Python 3.9.12 64-bit",
      "language": "python",
      "name": "python3"
    },
    "language_info": {
      "name": "python",
      "version": "3.9.12"
    },
    "orig_nbformat": 4,
    "vscode": {
      "interpreter": {
        "hash": "d50693958fdfdeea70cc66e7c212768c7b85f06617a080384e12f06630d76c8f"
      }
    },
    "colab": {
      "provenance": [],
      "collapsed_sections": [
        "RZzAv6z_Y_6E",
        "jP0lpYh2MJ1S",
        "rm42pw_IMJ1S",
        "ll3z6OgNR5I3",
        "TSvOBDJ5WFRU",
        "JuwEAAdBSx2M",
        "1vr0bb2nWKai",
        "Vn7rMs2cWWzd",
        "dZNUcckzWqa9",
        "B_-tXMxWWuoM",
        "HKsDJ0SRWyW-",
        "NdAKbemgW_l1",
        "mJ-RBnxuXKQE",
        "xi29pX11XjhY",
        "_YNDKTZYXkKy",
        "bR8ShXo-XnmJ",
        "-GQuhmBkYJrh",
        "6Vy-ajoPYe3F",
        "mWVgE1uI6Dr2",
        "x_XHelUQY37G",
        "zKGiZ6d-Y-uM",
        "aLBupDF_628Q",
        "iE_gVs7B7GWE",
        "kZRzCs1Q7XkT",
        "pUskl18-aVWa",
        "mOeI_UxbaicF",
        "EAs9w6Km7hLr",
        "k4N7QNgiA1e_",
        "pU7kKVcKbJtz",
        "bKgGTbXgbTXy",
        "-XCyuk35Ux97",
        "m58W7ILjU02T",
        "ugmAGXUYVDJT"
      ],
      "include_colab_link": true
    }
  },
  "nbformat": 4,
  "nbformat_minor": 0
}