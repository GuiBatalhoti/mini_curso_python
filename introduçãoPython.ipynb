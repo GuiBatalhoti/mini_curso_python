{
  "cells": [
    {
      "cell_type": "markdown",
      "metadata": {
        "id": "view-in-github",
        "colab_type": "text"
      },
      "source": [
        "<a href=\"https://colab.research.google.com/github/GuiBatalhoti/mini_curso_python/blob/main/introdu%C3%A7%C3%A3oPython.ipynb\" target=\"_parent\"><img src=\"https://colab.research.google.com/assets/colab-badge.svg\" alt=\"Open In Colab\"/></a>"
      ]
    },
    {
      "cell_type": "markdown",
      "metadata": {
        "id": "3aVJYodCMJ1N"
      },
      "source": [
        "# <font color='blue'>Minicurso Python - Parte 1</font>\n",
        "\n",
        "# Intodução ao Python\n",
        "\n",
        "Prof. Dr. Ronaldo Celso Messias Correa (ronaldo.correia@unesp.br)\n",
        "\n",
        "Guilherme Eduardo Silva Batalhoti (guilherme.batalhoti@unesp.br)\n",
        "\n",
        "Lucas Vinícius Voltera (lucas.voltera@unesp.br)\n",
        "\n",
        "\n"
      ]
    },
    {
      "cell_type": "markdown",
      "source": [
        "## Python\n",
        "\n",
        "Python é uma linguagem de script, com tipagem dinâmica e forte, interpretada, orientada a objetos, com *garbage collection*. Documentação da linguagem no link: [1].\n",
        "\n",
        "Conhecida pela sua simplicidade e legibilidade, a linguagem python vem crescendo cada vez mais  nos últimos anos e, de acordo com um relatório publicado pelo github em 2021 [2], é a segunda linguagem mais popular.\n",
        "\n",
        "Além disso, a linguagem python é utilizada nas mais diversas áreas, como desenvolvimento web, mobile, jogos, automação, análise de dados e machine learning.\n",
        "\n",
        "[1] https://www.python.org/\n",
        "\n",
        "[2] https://octoverse.github.com/#top-languages-over-the-years"
      ],
      "metadata": {
        "id": "RZzAv6z_Y_6E"
      }
    },
    {
      "cell_type": "markdown",
      "metadata": {
        "id": "jP0lpYh2MJ1S"
      },
      "source": [
        "## Notebook\n",
        "\n",
        "Notebooks podem ser definidos como um ambiente para experimentação. Sendo especialmente utilizado para opereções de física computacional e análise de dados. Como exemplo de notebooks, temos o Jupyter e o Colab.\n",
        "\n",
        "A principal característica dos notebooks que se diferencia de scripts é a divisão do código em células, o que torna possível a execução do código de forma modular. Assim, é possível atualizar pequenas partes do código de maneira mais simples. Além disso, existe a possibilidade de utilziar linguagem markdown (como este texto) para a decrições ao invés de se utilizar comentários no código, o que auxilia na organização.\n",
        "\n",
        "Uma das vantagens dos notebooks é que podem ser configurados para execução em um ambiente de Cluster de maneira online, ou seja, sem cópia local. Isso permite que sejam utilizados recursos mais poderosos que apenas um laptop ou um PC, como um armazenamento maior para os dados, melhor processamento em CPU e GPU, maior quantidade de memória, etc.\n",
        "\n",
        "A fim de evitar complicações de instalação, usaremos o Google Colab, que pode ser acessado de forma gratuita e online para executar códigos na linguagem Python.\n",
        "\n"
      ]
    },
    {
      "cell_type": "markdown",
      "metadata": {
        "id": "rm42pw_IMJ1S"
      },
      "source": [
        "## Introdução ao Python\n",
        "\n",
        "Operações matemáticas, variáveis, tipo, loop, condicionais, estruturas de dados, métodos e funções, funções lambda, list comprehention, Orientação à Objetos."
      ]
    },
    {
      "cell_type": "markdown",
      "source": [
        "### Variáveis e tipos de dados:\n",
        "\n",
        "Vale ressaltar que em Python todas as veriáveis são um Objetos, isso será tratado melhor no tópico de OO."
      ],
      "metadata": {
        "id": "ll3z6OgNR5I3"
      }
    },
    {
      "cell_type": "code",
      "source": [
        "## String\n",
        "a = 'Ola Mundo'\n",
        "\n",
        "## Int\n",
        "b = 1\n",
        "\n",
        "## Float\n",
        "c = 1.1\n",
        "\n",
        "## Boolean\n",
        "d = True\n",
        "e = False\n"
      ],
      "metadata": {
        "id": "kaLdRZgKd_q5"
      },
      "execution_count": null,
      "outputs": []
    },
    {
      "cell_type": "markdown",
      "source": [
        "### Função *print()*"
      ],
      "metadata": {
        "id": "TSvOBDJ5WFRU"
      }
    },
    {
      "cell_type": "code",
      "source": [
        "## printando o resultado\n",
        "## por padrão o parâmetro end é '\\n', portanto, pula-se uma linha automaticamente a cada print. Mas é possível alterar\n",
        "print('string:', a)\n",
        "print('int', b)\n",
        "print('float', c, end = '\\n\\n')\n",
        "\n",
        "## formato fstring\n",
        "print(f'string: {a}\\nint: {b}\\nfloat: {c}')"
      ],
      "metadata": {
        "colab": {
          "base_uri": "https://localhost:8080/"
        },
        "id": "ytC4zKU2gHzQ",
        "outputId": "444cfe13-c31d-4e2d-f799-1179815ed650"
      },
      "execution_count": null,
      "outputs": [
        {
          "output_type": "stream",
          "name": "stdout",
          "text": [
            "string: Ola Mundo\n",
            "int 1\n",
            "float 1.1\n",
            "\n",
            "string: Ola Mundo\n",
            "int: 1\n",
            "float: 1.1\n"
          ]
        }
      ]
    },
    {
      "cell_type": "markdown",
      "source": [
        "### Entrada de dados"
      ],
      "metadata": {
        "id": "JuwEAAdBSx2M"
      }
    },
    {
      "cell_type": "code",
      "source": [
        "## função input()\n",
        "\n",
        "## naturalmente a função input retorna uma string. Portanto, para receber uma entrada de\n",
        "## algum outro tipo de dado, é necessário fazer uma conversão\n",
        "\n",
        "entrada_str = input('Digite uma palavra: ')\n",
        "entrada_int = int(input('Digite um numero inteiro: '))\n",
        "entrada_float = float(input('Digite um numero decimal: '))\n",
        "\n",
        "print(f'\\nstring: {entrada_str}\\nint: {entrada_int}\\nfloat: {entrada_float}')"
      ],
      "metadata": {
        "colab": {
          "base_uri": "https://localhost:8080/"
        },
        "id": "YwkM5bjUS09b",
        "outputId": "a49437dd-1356-460a-89d5-700e789c2ec3"
      },
      "execution_count": null,
      "outputs": [
        {
          "output_type": "stream",
          "name": "stdout",
          "text": [
            "Digite uma palavra: a\n",
            "Digite um numero inteiro: 1\n",
            "Digite um numero decimal: 1\n",
            "\n",
            "string: a\n",
            "int: 1\n",
            "float: 1.0\n"
          ]
        }
      ]
    },
    {
      "cell_type": "markdown",
      "source": [
        "### Operações matemáticas:"
      ],
      "metadata": {
        "id": "1vr0bb2nWKai"
      }
    },
    {
      "cell_type": "code",
      "source": [
        "## operações matemáticas com números\n",
        "\n",
        "# a = 1, b = 1.1\n",
        "\n",
        "print(b + c)\n",
        "print(b - c)\n",
        "print(b * c)\n",
        "print(b / c)\n",
        "print(b % c) # divisão por resto\n",
        "print(b ** c) # potenciação"
      ],
      "metadata": {
        "colab": {
          "base_uri": "https://localhost:8080/"
        },
        "id": "QghegayWhfz_",
        "outputId": "7f141fea-7754-4e2c-eed0-df5d69bae1ac"
      },
      "execution_count": null,
      "outputs": [
        {
          "output_type": "stream",
          "name": "stdout",
          "text": [
            "2.1\n",
            "-0.10000000000000009\n",
            "1.1\n",
            "0.9090909090909091\n",
            "1.0\n",
            "1.0\n"
          ]
        }
      ]
    },
    {
      "cell_type": "markdown",
      "source": [
        "## Operações com String:\n",
        "\n",
        "String é um vetor de caractere, onde cada caractere individual pode ser acessado com notação de índice [ i ]."
      ],
      "metadata": {
        "id": "Vn7rMs2cWWzd"
      }
    },
    {
      "cell_type": "markdown",
      "source": [
        "### Concatenação"
      ],
      "metadata": {
        "id": "dZNUcckzWqa9"
      }
    },
    {
      "cell_type": "code",
      "source": [
        "## concatenação\n",
        "\n",
        "a = a + '!!!'\n",
        "print(a)"
      ],
      "metadata": {
        "colab": {
          "base_uri": "https://localhost:8080/"
        },
        "id": "j9SEH_KMTiuT",
        "outputId": "1f40d973-e146-4829-efda-6e45eeb3ccf7"
      },
      "execution_count": null,
      "outputs": [
        {
          "output_type": "stream",
          "name": "stdout",
          "text": [
            "Ola Mundo!!!\n"
          ]
        }
      ]
    },
    {
      "cell_type": "markdown",
      "source": [
        "### Transformar em maísculo ou minúsculo"
      ],
      "metadata": {
        "id": "B_-tXMxWWuoM"
      }
    },
    {
      "cell_type": "code",
      "source": [
        "## deixar tudo em maiusculo ou minusculo\n",
        "\n",
        "a = a.upper()\n",
        "print(a)\n",
        "\n",
        "a = a.lower()\n",
        "print(a)"
      ],
      "metadata": {
        "colab": {
          "base_uri": "https://localhost:8080/"
        },
        "id": "Jcbotie5Tv3R",
        "outputId": "38f11f12-85cb-47ae-de33-c820962c802e"
      },
      "execution_count": null,
      "outputs": [
        {
          "output_type": "stream",
          "name": "stdout",
          "text": [
            "OLA MUNDO!!!\n",
            "ola mundo!!!\n"
          ]
        }
      ]
    },
    {
      "cell_type": "markdown",
      "source": [
        "### Trocar uma string por outra"
      ],
      "metadata": {
        "id": "HKsDJ0SRWyW-"
      }
    },
    {
      "cell_type": "code",
      "source": [
        "## Trocar com uma string por outra\n",
        "\n",
        "# função replace\n",
        "frase = 'artur borracheiro'\n",
        "                  ## str antiga str nova\n",
        "print(frase.replace('artur', 'joao'))"
      ],
      "metadata": {
        "colab": {
          "base_uri": "https://localhost:8080/"
        },
        "id": "IUq6QEtiT9C1",
        "outputId": "cb810616-7d70-4e20-c99b-d3492e0cef62"
      },
      "execution_count": null,
      "outputs": [
        {
          "output_type": "stream",
          "name": "stdout",
          "text": [
            "joao borracheiro\n"
          ]
        }
      ]
    },
    {
      "cell_type": "markdown",
      "source": [
        "### Separar uma string por algo em comum"
      ],
      "metadata": {
        "id": "NdAKbemgW_l1"
      }
    },
    {
      "cell_type": "code",
      "source": [
        "# função split separa uma string por algum elemento em comum e retorna uma lista de strings separadas\n",
        "data = '1/1/2001'\n",
        "print(data.split('/'))"
      ],
      "metadata": {
        "colab": {
          "base_uri": "https://localhost:8080/"
        },
        "id": "1KQWGzQrXEy6",
        "outputId": "a497c163-d70b-4ccc-c715-69cc01938ede"
      },
      "execution_count": null,
      "outputs": [
        {
          "output_type": "stream",
          "name": "stdout",
          "text": [
            "['1', '1', '2001']\n"
          ]
        }
      ]
    },
    {
      "cell_type": "markdown",
      "source": [
        "### Encontrar um caractere"
      ],
      "metadata": {
        "id": "mJ-RBnxuXKQE"
      }
    },
    {
      "cell_type": "code",
      "source": [
        "# função find retorna o indice da string que está o item a ser encontrado \n",
        "desafio = 'DJASIODHSAUODHSADOSUAGDSIAJDAYAGSDAKBSDKABSH1SHAUKDGASHDKBSADHSIAGDASDIADHASUOHDJSANJLS' ## encontre o número 1\n",
        "print(desafio.find('1'))\n",
        "print(desafio[desafio.find('1')])"
      ],
      "metadata": {
        "colab": {
          "base_uri": "https://localhost:8080/"
        },
        "id": "pSveJrs4XNJf",
        "outputId": "8f8e8e3d-5715-42a2-bc07-24c6b40386ae"
      },
      "execution_count": null,
      "outputs": [
        {
          "output_type": "stream",
          "name": "stdout",
          "text": [
            "44\n",
            "1\n"
          ]
        }
      ]
    },
    {
      "cell_type": "markdown",
      "source": [
        "## Condicionais:"
      ],
      "metadata": {
        "id": "xi29pX11XjhY"
      }
    },
    {
      "cell_type": "code",
      "source": [
        "a = int(input('Digite um valor entre 0 a 100: '))\n",
        "\n",
        "if a > 50:\n",
        "    print(\"maior que 50\")\n",
        "## else if\n",
        "elif a < 50:\n",
        "    print(\"menor que 50\")\n",
        "else:\n",
        "    print(\"igual a 50\")"
      ],
      "metadata": {
        "id": "OgI2o9zSXi2x",
        "colab": {
          "base_uri": "https://localhost:8080/"
        },
        "outputId": "11bdea81-83aa-456e-f22c-6785a2c0977b"
      },
      "execution_count": null,
      "outputs": [
        {
          "output_type": "stream",
          "name": "stdout",
          "text": [
            "Digite um valor entre 0 a 100: 1\n",
            "menor que 50\n"
          ]
        }
      ]
    },
    {
      "cell_type": "markdown",
      "source": [
        "### Operador AND / OR"
      ],
      "metadata": {
        "id": "_YNDKTZYXkKy"
      }
    },
    {
      "cell_type": "code",
      "source": [
        "if 0 < a < 1000:\n",
        "    print('entre 0 a 1000')\n",
        "\n",
        "#a = -100\n",
        "b = -100\n",
        "\n",
        "if a > 0 and b < 0:\n",
        "    print('A é positivo **E** b é negativo')\n",
        "\n",
        "if a > 0 or b > 0:\n",
        "    print('A é positivo **OU** B é positivo')\n"
      ],
      "metadata": {
        "colab": {
          "base_uri": "https://localhost:8080/"
        },
        "id": "AwtRiCX-4QWG",
        "outputId": "883d155b-f57a-4f6b-9825-9a122e6945bb"
      },
      "execution_count": null,
      "outputs": [
        {
          "output_type": "stream",
          "name": "stdout",
          "text": [
            "entre 0 a 1000\n",
            "A é positivo **E** b é negativo\n",
            "A é positivo **OU** B é positivo\n"
          ]
        }
      ]
    },
    {
      "cell_type": "markdown",
      "source": [
        "## Loops:"
      ],
      "metadata": {
        "id": "bR8ShXo-XnmJ"
      }
    },
    {
      "cell_type": "markdown",
      "source": [
        "### Função range"
      ],
      "metadata": {
        "id": "-GQuhmBkYJrh"
      }
    },
    {
      "cell_type": "code",
      "source": [
        "#range() é exclusivo, ou seja, o último valor não é incluído\n",
        "\n",
        "print(\"Loop for por uma faixa de valores 0-5:\")\n",
        "for i in range(5):\n",
        "    print(i)"
      ],
      "metadata": {
        "colab": {
          "base_uri": "https://localhost:8080/"
        },
        "id": "ahNMpzEsYLg6",
        "outputId": "7bd10a8b-8406-43a2-a6e1-f55cdacdfb33"
      },
      "execution_count": null,
      "outputs": [
        {
          "output_type": "stream",
          "name": "stdout",
          "text": [
            "Loop for por uma faixa de valores 0-5:\n",
            "0\n",
            "1\n",
            "2\n",
            "3\n",
            "4\n"
          ]
        }
      ]
    },
    {
      "cell_type": "code",
      "source": [
        "print(\"Loop for por uma faixa de valores 100-110 andando de 2 em 2:\")\n",
        "for i in range(100,111,10):\n",
        "    print(i)\n"
      ],
      "metadata": {
        "id": "r6Scrc8mYPzD",
        "colab": {
          "base_uri": "https://localhost:8080/"
        },
        "outputId": "86947514-476d-4813-99e8-ab940e4e4adc"
      },
      "execution_count": null,
      "outputs": [
        {
          "output_type": "stream",
          "name": "stdout",
          "text": [
            "Loop for por uma faixa de valores 100-110 andando de 2 em 2:\n",
            "100\n",
            "110\n"
          ]
        }
      ]
    },
    {
      "cell_type": "markdown",
      "source": [
        "### While"
      ],
      "metadata": {
        "id": "6Vy-ajoPYe3F"
      }
    },
    {
      "cell_type": "code",
      "source": [
        "print(\"Loop while:\")\n",
        "i = 0\n",
        "j = 0\n",
        "while i < 5:\n",
        "    print(i)\n",
        "    i += 1 \n",
        "    while j < 5:\n",
        "        print(j)\n",
        "        j += 1"
      ],
      "metadata": {
        "id": "A1arfCMJXtns",
        "colab": {
          "base_uri": "https://localhost:8080/"
        },
        "outputId": "096c1be9-561f-4e0a-c740-3a25127fbbd2"
      },
      "execution_count": null,
      "outputs": [
        {
          "output_type": "stream",
          "name": "stdout",
          "text": [
            "Loop while:\n",
            "0\n",
            "0\n",
            "1\n",
            "2\n",
            "3\n",
            "4\n",
            "1\n",
            "2\n",
            "3\n",
            "4\n"
          ]
        }
      ]
    },
    {
      "cell_type": "markdown",
      "source": [
        "## Estrutura de dados (listas, tuplas, dicionários):"
      ],
      "metadata": {
        "id": "bPfpo6lTXxCZ"
      }
    },
    {
      "cell_type": "markdown",
      "source": [
        "### Lista:"
      ],
      "metadata": {
        "id": "mWVgE1uI6Dr2"
      }
    },
    {
      "cell_type": "markdown",
      "source": [
        "#### Notação\n",
        "\n",
        "Uma Lista em Python nada mais é que uma coleção de valores separados por vígula entre colchetes."
      ],
      "metadata": {
        "id": "x_XHelUQY37G"
      }
    },
    {
      "cell_type": "code",
      "source": [
        "lista = []\n",
        "print(lista)\n",
        "\n",
        "lista = [1,2,'3',a,5]\n",
        "print(lista)"
      ],
      "metadata": {
        "id": "jIXxH5r7X1eT",
        "colab": {
          "base_uri": "https://localhost:8080/"
        },
        "outputId": "1b014ce6-2ed1-475d-8b34-6addab5f810b"
      },
      "execution_count": null,
      "outputs": [
        {
          "output_type": "stream",
          "name": "stdout",
          "text": [
            "[]\n",
            "[1, 2, '3', 1, 5]\n"
          ]
        }
      ]
    },
    {
      "cell_type": "markdown",
      "source": [
        "Notação de índice:"
      ],
      "metadata": {
        "id": "qgAQ5lu_6Mx0"
      }
    },
    {
      "cell_type": "code",
      "source": [
        "print(lista[0], lista[1]) ## primeiro e segundo\n",
        "print(lista[-1], lista[-2]) ## ultimo e penultimo"
      ],
      "metadata": {
        "colab": {
          "base_uri": "https://localhost:8080/"
        },
        "id": "bj1fUi5kZEi6",
        "outputId": "e8399c91-ea17-4ebe-be99-c8fb0f2c3427"
      },
      "execution_count": null,
      "outputs": [
        {
          "output_type": "stream",
          "name": "stdout",
          "text": [
            "1 2\n",
            "5 1\n"
          ]
        }
      ]
    },
    {
      "cell_type": "markdown",
      "source": [
        "#### Modificar e adicionar elementos da lista"
      ],
      "metadata": {
        "id": "zKGiZ6d-Y-uM"
      }
    },
    {
      "cell_type": "code",
      "source": [
        "## modificando a lista\n",
        "lista[-1] = 4.9\n",
        "\n",
        "## adicionar no final\n",
        "lista.append(6)\n",
        "print(lista)"
      ],
      "metadata": {
        "id": "udeY1SOd6RAn",
        "colab": {
          "base_uri": "https://localhost:8080/"
        },
        "outputId": "5bd9113c-26ce-45cd-e1c3-6962f31c6457"
      },
      "execution_count": null,
      "outputs": [
        {
          "output_type": "stream",
          "name": "stdout",
          "text": [
            "[1, 2, '3', 1, 4.9, 6]\n"
          ]
        }
      ]
    },
    {
      "cell_type": "markdown",
      "source": [
        "#### Corte de listas:"
      ],
      "metadata": {
        "id": "aLBupDF_628Q"
      }
    },
    {
      "cell_type": "code",
      "source": [
        "## atalhos na lista ':'\n",
        "print(lista[1:3]) ## de onde até onde\n",
        "print(lista[:-1])"
      ],
      "metadata": {
        "id": "yx5-Pu5865QW",
        "colab": {
          "base_uri": "https://localhost:8080/"
        },
        "outputId": "8d60c0d3-47d8-42ba-cd20-15e5c54059dc"
      },
      "execution_count": null,
      "outputs": [
        {
          "output_type": "stream",
          "name": "stdout",
          "text": [
            "[2, '3']\n",
            "[1, 2, '3', 1, 4.9]\n"
          ]
        }
      ]
    },
    {
      "cell_type": "markdown",
      "source": [
        "#### Inserir, remover e deletar elementos:"
      ],
      "metadata": {
        "id": "iE_gVs7B7GWE"
      }
    },
    {
      "cell_type": "code",
      "source": [
        "## adicionar em alguma posição\n",
        "lista.insert(2, 'python') ## posicao, valor\n",
        "print(lista)\n",
        "\n",
        "## removendo o elemento por nome\n",
        "lista.remove('python')\n",
        "print(lista)\n",
        "\n",
        "## removendo o elemento por index\n",
        "del lista[-1]\n",
        "print(lista)"
      ],
      "metadata": {
        "id": "45PbQKNd7M89",
        "colab": {
          "base_uri": "https://localhost:8080/"
        },
        "outputId": "39528464-f249-4baf-94f7-f327e89dfb1e"
      },
      "execution_count": null,
      "outputs": [
        {
          "output_type": "stream",
          "name": "stdout",
          "text": [
            "[1, 2, 'python', '3', 1, 4.9, 6]\n",
            "[1, 2, '3', 1, 4.9, 6]\n",
            "[1, 2, '3', 1, 4.9]\n"
          ]
        }
      ]
    },
    {
      "cell_type": "markdown",
      "source": [
        "#### Ordenar:"
      ],
      "metadata": {
        "id": "kZRzCs1Q7XkT"
      }
    },
    {
      "cell_type": "code",
      "source": [
        "## ordenar lista\n",
        "nomes = ['carlos', 'ana', 'bruno', 'diego']\n",
        "nomes.sort() ## timsort, pior caso O(nlogn)\n",
        "print(nomes)\n"
      ],
      "metadata": {
        "id": "s4IWiVfY7YuD",
        "colab": {
          "base_uri": "https://localhost:8080/"
        },
        "outputId": "7222ea55-91f2-4aa6-fbf3-46fe0e45c794"
      },
      "execution_count": null,
      "outputs": [
        {
          "output_type": "stream",
          "name": "stdout",
          "text": [
            "['ana', 'bruno', 'carlos', 'diego']\n"
          ]
        }
      ]
    },
    {
      "cell_type": "markdown",
      "source": [
        "#### Tamanho de uma lista\n"
      ],
      "metadata": {
        "id": "pUskl18-aVWa"
      }
    },
    {
      "cell_type": "code",
      "source": [
        "tam = len(nomes)\n",
        "print(tam)"
      ],
      "metadata": {
        "colab": {
          "base_uri": "https://localhost:8080/"
        },
        "id": "kECVBO2-aeuZ",
        "outputId": "442f9a4d-a691-4d57-d247-4df21bc7ba3f"
      },
      "execution_count": null,
      "outputs": [
        {
          "output_type": "stream",
          "name": "stdout",
          "text": [
            "4\n"
          ]
        }
      ]
    },
    {
      "cell_type": "markdown",
      "source": [
        "#### operações com lista\n"
      ],
      "metadata": {
        "id": "mOeI_UxbaicF"
      }
    },
    {
      "cell_type": "code",
      "source": [
        "novaLista = lista + nomes ## concatenação\n",
        "print(novaLista) \n",
        "\n",
        "\n",
        "zeros = [0,1] * 10 ## concatenação x vezes\n",
        "print(zeros, len(zeros))"
      ],
      "metadata": {
        "colab": {
          "base_uri": "https://localhost:8080/"
        },
        "id": "XQ3AAeu5am9W",
        "outputId": "e7fae498-e344-47e2-81c1-be3fafb9dce6"
      },
      "execution_count": null,
      "outputs": [
        {
          "output_type": "stream",
          "name": "stdout",
          "text": [
            "[1, 2, '3', 1, 4.9, 'ana', 'bruno', 'carlos', 'diego']\n",
            "[0, 1, 0, 1, 0, 1, 0, 1, 0, 1, 0, 1, 0, 1, 0, 1, 0, 1, 0, 1] 20\n"
          ]
        }
      ]
    },
    {
      "cell_type": "markdown",
      "source": [
        "#### Loop em uma lista:\n"
      ],
      "metadata": {
        "id": "EAs9w6Km7hLr"
      }
    },
    {
      "cell_type": "code",
      "source": [
        "## for clássico\n",
        "for i in range(0, len(nomes),2):\n",
        "    print(f'{i}, {nomes[i]}') \n"
      ],
      "metadata": {
        "colab": {
          "base_uri": "https://localhost:8080/"
        },
        "id": "rOWeuJaWalXa",
        "outputId": "9baa9bb0-8a6f-4f78-8680-ca6941cdd0db"
      },
      "execution_count": null,
      "outputs": [
        {
          "output_type": "stream",
          "name": "stdout",
          "text": [
            "0, ana\n",
            "2, carlos\n"
          ]
        }
      ]
    },
    {
      "cell_type": "code",
      "source": [
        "## for em uma lista\n",
        "for nome in nomes:\n",
        "    print(nome)"
      ],
      "metadata": {
        "colab": {
          "base_uri": "https://localhost:8080/"
        },
        "id": "eWHFAjzDA0xJ",
        "outputId": "1f26d8c5-b418-4068-909b-7b3740c57bc9"
      },
      "execution_count": null,
      "outputs": [
        {
          "output_type": "stream",
          "name": "stdout",
          "text": [
            "ana\n",
            "bruno\n",
            "carlos\n",
            "diego\n"
          ]
        }
      ]
    },
    {
      "cell_type": "code",
      "source": [
        "## string é uma lista de caracteres\n",
        "nome = 'valdir mototaxi'\n",
        "for char in nome:\n",
        "    print(char, end = '-')\n",
        "\n"
      ],
      "metadata": {
        "colab": {
          "base_uri": "https://localhost:8080/"
        },
        "id": "8co6Leckav1b",
        "outputId": "f6cbdd69-471b-48fc-a98d-2aa70513c99a"
      },
      "execution_count": null,
      "outputs": [
        {
          "output_type": "stream",
          "name": "stdout",
          "text": [
            "v-a-l-d-i-r- -m-o-t-o-t-a-x-i-"
          ]
        }
      ]
    },
    {
      "cell_type": "markdown",
      "source": [
        "### Exercício 01\n",
        "\n",
        "Iterar sobre uma lista qualquer.\n",
        "\n",
        "Exemplo:\n",
        "lista01 = [1,2,3,4,5,6,7,'fdjsk', \"jdkslaçfjlk\"]\n",
        "for lista 01."
      ],
      "metadata": {
        "id": "k4N7QNgiA1e_"
      }
    },
    {
      "cell_type": "code",
      "source": [
        "lista01 = [1,2,3,4,5,6,7,'fdjsk', \"jdkslaçfjlk\"]\n",
        "\n",
        "for i in lista01:\n",
        "    print(i)\n"
      ],
      "metadata": {
        "colab": {
          "base_uri": "https://localhost:8080/"
        },
        "id": "3ThDOR8LCSPB",
        "outputId": "bad92997-eb8d-4783-fbda-00fdbf18dcdb"
      },
      "execution_count": null,
      "outputs": [
        {
          "output_type": "stream",
          "name": "stdout",
          "text": [
            "1\n",
            "2\n",
            "3\n",
            "4\n",
            "5\n",
            "6\n",
            "7\n",
            "fdjsk\n",
            "jdkslaçfjlk\n"
          ]
        }
      ]
    },
    {
      "cell_type": "markdown",
      "source": [
        "### Tuplas:\n"
      ],
      "metadata": {
        "id": "IFWh6VtJ7lJ3"
      }
    },
    {
      "cell_type": "markdown",
      "source": [
        "#### Notação\n",
        "\n",
        "Tuplas são, em linhas simples, listas imutáveis:"
      ],
      "metadata": {
        "id": "pU7kKVcKbJtz"
      }
    },
    {
      "cell_type": "code",
      "source": [
        "tupla = ()\n",
        "print(tupla)\n",
        "\n",
        "tupla = (1, 2, 3, 4, 5)\n",
        "print(tupla)\n",
        "\n"
      ],
      "metadata": {
        "colab": {
          "base_uri": "https://localhost:8080/"
        },
        "id": "DizTvCLyCmWV",
        "outputId": "c4b85e28-4b48-4d53-ee6c-9667d701f7a0"
      },
      "execution_count": null,
      "outputs": [
        {
          "output_type": "stream",
          "name": "stdout",
          "text": [
            "()\n",
            "(1, 2, 3, 4, 5)\n"
          ]
        }
      ]
    },
    {
      "cell_type": "markdown",
      "source": [
        "#### Notação de indice"
      ],
      "metadata": {
        "id": "bKgGTbXgbTXy"
      }
    },
    {
      "cell_type": "code",
      "source": [
        "print(tupla[1], tupla[2])\n",
        "print(tupla[-1], tupla[-2])\n",
        "\n",
        "\n",
        "print(tupla[1:])\n",
        "print(tupla[:-1])"
      ],
      "metadata": {
        "colab": {
          "base_uri": "https://localhost:8080/"
        },
        "id": "ZIqqnvmNbOFf",
        "outputId": "73ae291b-1c1d-46ae-89a0-0b3c9582601e"
      },
      "execution_count": null,
      "outputs": [
        {
          "output_type": "stream",
          "name": "stdout",
          "text": [
            "2 3\n",
            "5 4\n",
            "(2, 3, 4, 5)\n",
            "(1, 2, 3, 4)\n"
          ]
        }
      ]
    },
    {
      "cell_type": "markdown",
      "source": [
        "#### Alterando elementos"
      ],
      "metadata": {
        "id": "gmWO3Ee8bWU6"
      }
    },
    {
      "cell_type": "code",
      "source": [
        "## erro\n",
        "\n",
        "#tupla[-1] = 4.5\n",
        "#tupla.append(6)\n"
      ],
      "metadata": {
        "id": "s9MV93CIbYlg"
      },
      "execution_count": null,
      "outputs": []
    },
    {
      "cell_type": "markdown",
      "source": [
        "### Dicionários\n"
      ],
      "metadata": {
        "id": "dcbn5uPL7qWG"
      }
    },
    {
      "cell_type": "markdown",
      "source": [
        "#### Notação\n",
        "\n",
        "São como listas de associação \"chave:valor\"."
      ],
      "metadata": {
        "id": "NcSoRb0VcB0_"
      }
    },
    {
      "cell_type": "code",
      "source": [
        "## dicionario\n",
        "dicionario = {\n",
        "    'gato': 'cat',\n",
        "    'cachorro': 'dog',\n",
        "    'one': 1\n",
        "} ## chave : valor\n",
        "\n",
        "\n",
        "# ver todo o dicionario\n",
        "print(dicionario)\n"
      ],
      "metadata": {
        "colab": {
          "base_uri": "https://localhost:8080/"
        },
        "id": "GRCFwwRLfPQv",
        "outputId": "66e60e00-7547-425a-d541-ab3eca6d774b"
      },
      "execution_count": null,
      "outputs": [
        {
          "output_type": "stream",
          "name": "stdout",
          "text": [
            "{'gato': 'cat', 'cachorro': 'dog', 'one': 1}\n"
          ]
        }
      ]
    },
    {
      "cell_type": "markdown",
      "source": [
        "#### chaves e valores"
      ],
      "metadata": {
        "id": "l9trnxx3cIiW"
      }
    },
    {
      "cell_type": "code",
      "source": [
        "## ver apenas um elemento do dicionario\n",
        "print(dicionario['gato'])\n",
        "\n",
        "## ver todas as chaves\n",
        "print(dicionario.keys())\n",
        "\n",
        "## ver todas os valores (essas funções retornam uma lista com as respectivas chaves ou valores)\n",
        "print(dicionario.values())\n"
      ],
      "metadata": {
        "colab": {
          "base_uri": "https://localhost:8080/"
        },
        "id": "DjHDRz7jcM6U",
        "outputId": "a30dffa6-bdaa-49f1-d310-509ef0e2f01b"
      },
      "execution_count": null,
      "outputs": [
        {
          "output_type": "stream",
          "name": "stdout",
          "text": [
            "cat\n",
            "dict_keys(['gato', 'cachorro', 'one'])\n",
            "dict_values(['cat', 'dog', 1])\n"
          ]
        }
      ]
    },
    {
      "cell_type": "markdown",
      "source": [
        "#### Iteração em dicionários"
      ],
      "metadata": {
        "id": "MFT-VS82cRTc"
      }
    },
    {
      "cell_type": "code",
      "source": [
        "## fazendo o for de um unico campo\n",
        "for valor in dicionario.values():\n",
        "    print(valor)\n"
      ],
      "metadata": {
        "colab": {
          "base_uri": "https://localhost:8080/"
        },
        "id": "IueMa2k0cWjP",
        "outputId": "fde82e43-caac-4829-cf2f-1b624164b841"
      },
      "execution_count": null,
      "outputs": [
        {
          "output_type": "stream",
          "name": "stdout",
          "text": [
            "cat\n",
            "dog\n",
            "1\n"
          ]
        }
      ]
    },
    {
      "cell_type": "code",
      "source": [
        "for chave in dicionario.keys():\n",
        "    print(f'{chave} - > {dicionario[chave]}')\n"
      ],
      "metadata": {
        "colab": {
          "base_uri": "https://localhost:8080/"
        },
        "id": "GfkzWiXccZ_B",
        "outputId": "0f8455c0-d9e5-449b-8698-11a8843eae7d"
      },
      "execution_count": null,
      "outputs": [
        {
          "output_type": "stream",
          "name": "stdout",
          "text": [
            "gato - > cat\n",
            "cachorro - > dog\n",
            "one - > 1\n"
          ]
        }
      ]
    },
    {
      "cell_type": "code",
      "source": [
        "## fazendo o for de ambos os campos\n",
        "for chave, valor in dicionario.items():\n",
        "    print(f'{chave} -> {valor}')\n"
      ],
      "metadata": {
        "colab": {
          "base_uri": "https://localhost:8080/"
        },
        "id": "YQH-f8s6ccUx",
        "outputId": "ac3207fa-b95c-4208-cfc9-858764dbac34"
      },
      "execution_count": null,
      "outputs": [
        {
          "output_type": "stream",
          "name": "stdout",
          "text": [
            "gato -> cat\n",
            "cachorro -> dog\n",
            "one -> 1\n"
          ]
        }
      ]
    },
    {
      "cell_type": "markdown",
      "source": [
        "#### Adicionar e remover elementos"
      ],
      "metadata": {
        "id": "2Jy6aD6Gce6-"
      }
    },
    {
      "cell_type": "code",
      "source": [
        "## adicionando mais coisas ao dicionario\n",
        "dicionario['copo'] = 'glass'\n",
        "print(dicionario)\n",
        "\n",
        "## remover algum valor no dicionario\n",
        "del dicionario['copo']\n",
        "print(dicionario)"
      ],
      "metadata": {
        "colab": {
          "base_uri": "https://localhost:8080/"
        },
        "id": "bjEj6wMBcg9X",
        "outputId": "cad30c7d-1fd4-4421-810f-6cf4e36cf944"
      },
      "execution_count": null,
      "outputs": [
        {
          "output_type": "stream",
          "name": "stdout",
          "text": [
            "{'gato': 'cat', 'cachorro': 'dog', 'one': 1, 'copo': 'glass'}\n",
            "{'gato': 'cat', 'cachorro': 'dog', 'one': 1}\n"
          ]
        }
      ]
    },
    {
      "cell_type": "code",
      "source": [
        "matriz = [ [1, 2, 3],\n",
        "           [4, 5, 6],\n",
        "           [7, 8, 9] ]\n",
        "\n",
        "for linha in matriz:\n",
        "    for elemento in linha:\n",
        "        print(elemento, end = ' ')"
      ],
      "metadata": {
        "colab": {
          "base_uri": "https://localhost:8080/"
        },
        "id": "UJljUmisGZFI",
        "outputId": "29ca2536-116e-4518-ed5b-b383cbb332e3"
      },
      "execution_count": null,
      "outputs": [
        {
          "output_type": "stream",
          "name": "stdout",
          "text": [
            "1 2 3 4 5 6 7 8 9 "
          ]
        }
      ]
    },
    {
      "cell_type": "markdown",
      "source": [
        "### Funções:\n",
        "\n",
        "Assim como na maioria das linguagens de programação, funções tem o intuito de encapsular partes do código a fim de evitar repetições.\n"
      ],
      "metadata": {
        "id": "XrvMCvQUXcwm"
      }
    },
    {
      "cell_type": "code",
      "source": [
        "def soma(a:int,b:int) -> int:\n",
        "    return a + b\n",
        "\n",
        "\n",
        "a = int(input('Digite o valor de a: '))\n",
        "b = int(input('Digite o valor de b: '))\n",
        "\n",
        "print(f\"Soma de {a} + {b} é:\", soma(b=a, a=b))"
      ],
      "metadata": {
        "id": "SpiHdYfIXfQi",
        "colab": {
          "base_uri": "https://localhost:8080/"
        },
        "outputId": "c30bee5e-0f2d-4a20-80e2-0a6629270474"
      },
      "execution_count": null,
      "outputs": [
        {
          "output_type": "stream",
          "name": "stdout",
          "text": [
            "Digite o valor de a: 1\n",
            "Digite o valor de b: 1\n",
            "Soma de 1 + 1 é: 2\n"
          ]
        }
      ]
    },
    {
      "cell_type": "markdown",
      "source": [
        "#### Funções lambda (funções anônimas):\n",
        "\n",
        "São funções simples de uma linha apenas que, em suma, são funções que não necessitam de declaração."
      ],
      "metadata": {
        "id": "yq1TdFnFX4NQ"
      }
    },
    {
      "cell_type": "code",
      "source": [
        "soma = lambda x,y: x+y\n",
        "\n",
        "soma(2,3)"
      ],
      "metadata": {
        "id": "vYFBozMuX4Uy",
        "colab": {
          "base_uri": "https://localhost:8080/"
        },
        "outputId": "b7e0afcb-bd75-4012-9049-f5aa3afe1ab9"
      },
      "execution_count": null,
      "outputs": [
        {
          "output_type": "execute_result",
          "data": {
            "text/plain": [
              "5"
            ]
          },
          "metadata": {},
          "execution_count": 67
        }
      ]
    },
    {
      "cell_type": "markdown",
      "source": [
        "### Escopo de variáveis"
      ],
      "metadata": {
        "id": "_R8LAXv2to-m"
      }
    },
    {
      "cell_type": "code",
      "source": [
        "## variaveis globais e escopos de variaveis\n",
        "def teste_global():\n",
        "    ## dizendo que a variavel y é global. Portanto, qualquer alteração que fizer nessa função também ocorre fora dela\n",
        "    global y\n",
        "    y = 21\n",
        "\n",
        "## antes da alteração\n",
        "y = 1\n",
        "print(y)\n",
        "teste_global()\n",
        "## depois da alteração\n",
        "print(y)"
      ],
      "metadata": {
        "colab": {
          "base_uri": "https://localhost:8080/"
        },
        "id": "cHrNWHz13Gmj",
        "outputId": "75463011-8c2a-4836-8b39-c3d33d12688a"
      },
      "execution_count": null,
      "outputs": [
        {
          "output_type": "stream",
          "name": "stdout",
          "text": [
            "1\n",
            "21\n"
          ]
        }
      ]
    },
    {
      "cell_type": "markdown",
      "source": [
        "## List Comprehension:\n",
        "\n",
        "Uma sintaxe que oferece uma forma mais \"Pythonica\" e alternativa de realizar alguns tipos de loops."
      ],
      "metadata": {
        "id": "UOphqsPDYAin"
      }
    },
    {
      "cell_type": "markdown",
      "source": [
        "### Listas"
      ],
      "metadata": {
        "id": "n2951DHHdKsX"
      }
    },
    {
      "cell_type": "markdown",
      "source": [
        "#### Notação"
      ],
      "metadata": {
        "id": "ezHBI7qfdODJ"
      }
    },
    {
      "cell_type": "code",
      "source": [
        "## um jeito de fazer\n",
        "quadrado1 = []\n",
        "for i in range(1, 11):\n",
        "    quadrado1.append(i**2)\n",
        "\n",
        "\n",
        "## list comprehesion\n",
        "quadrado2 = [j**2 for j in range(1, 11)]\n",
        "\n",
        "print(quadrado1)\n",
        "print(quadrado2)"
      ],
      "metadata": {
        "id": "jF9NuXE_YNaX",
        "colab": {
          "base_uri": "https://localhost:8080/"
        },
        "outputId": "fd36590b-29c8-4a1d-9f15-e2e4ace6692e"
      },
      "execution_count": null,
      "outputs": [
        {
          "output_type": "stream",
          "name": "stdout",
          "text": [
            "[1, 4, 9, 16, 25, 36, 49, 64, 81, 100]\n",
            "[1, 4, 9, 16, 25, 36, 49, 64, 81, 100]\n"
          ]
        }
      ]
    },
    {
      "cell_type": "markdown",
      "source": [
        "#### Aumentando a complexidade com condicionais"
      ],
      "metadata": {
        "id": "1g8SqhI0dV45"
      }
    },
    {
      "cell_type": "code",
      "source": [
        "## adicionando complexidade com um if\n",
        "quadrado_par = [j**2 for j in range(1, 11) if j % 2 == 0]\n",
        "print(quadrado_par)"
      ],
      "metadata": {
        "colab": {
          "base_uri": "https://localhost:8080/"
        },
        "id": "-phesHRFdZqE",
        "outputId": "b9ee9531-63dc-4c6d-a851-0fb2e59c6936"
      },
      "execution_count": null,
      "outputs": [
        {
          "output_type": "stream",
          "name": "stdout",
          "text": [
            "[4, 16, 36, 64, 100]\n"
          ]
        }
      ]
    },
    {
      "cell_type": "markdown",
      "source": [
        "### Dicionários"
      ],
      "metadata": {
        "id": "Tskq_b4ndcKf"
      }
    },
    {
      "cell_type": "markdown",
      "source": [
        "#### Notação"
      ],
      "metadata": {
        "id": "J0c-JmSZdmdr"
      }
    },
    {
      "cell_type": "code",
      "source": [
        "## mesma coisa com dict\n",
        "quadrado_impar = {j:j**2 for j in range(1, 11) if j%2 == 1}\n",
        "print(quadrado_impar)"
      ],
      "metadata": {
        "colab": {
          "base_uri": "https://localhost:8080/"
        },
        "id": "22R0HbvideJr",
        "outputId": "398deef8-8988-4bf6-89ba-f5a49cee87f2"
      },
      "execution_count": null,
      "outputs": [
        {
          "output_type": "stream",
          "name": "stdout",
          "text": [
            "{1: 1, 3: 9, 5: 25, 7: 49, 9: 81}\n"
          ]
        }
      ]
    },
    {
      "cell_type": "markdown",
      "source": [
        "## Orientação à Objetos:\n",
        "\n",
        "A palavra “self” é uma equivalência à palavra “this” em Java, por exemplo. É necessário seu uso como parâmetro em métodos para deixar explícito a instância do objeto.\n",
        "\n",
        "A linguagem não possui atributos e métodos verdadeiramente privados. A linguagem oferece uma maneira de acessar os métodos e atributos “private” e “protected'” fora da própria classe. É necessário se atentar a isso. Por convenção uma variável precedida de ‘_’ é considerada como não-pública, vide: https://docs.python.org/3/tutorial/classes.html#private-variables.\n",
        "Os modificadores de acesso são:\n",
        "<ul>\n",
        "  <li>O modificador de acesso '__' (dois caracteres underline) define o atributo como “private”;</li>\n",
        "  <li>O modificador de acesso '_' (um caractere underline) define o atributo como “protected”;</li>\n",
        "  <li>Se o método ou atributo não tiver nenhum dos modificadores acima, será definido como “public” por padrão.</li> \n",
        "</ul>\n",
        "\n"
      ],
      "metadata": {
        "id": "_la8PPk3YMp1"
      }
    },
    {
      "cell_type": "markdown",
      "source": [
        "#### Notação"
      ],
      "metadata": {
        "id": "-XCyuk35Ux97"
      }
    },
    {
      "cell_type": "code",
      "source": [
        "class Pilha:\n",
        "    ## metodo \"contrutor\", mas na real é o inicializador\n",
        "    def __init__(self):\n",
        "        #self.__pilha = [] ## atributo protegido\n",
        "        #self._pilha = [] ## atributo privado\n",
        "        self.pilha = [] ## atributo publico\n",
        "\n",
        "    ## métodos\n",
        "    def empilhar(self, n):\n",
        "        self.pilha.append(n)\n",
        "\n",
        "\n",
        "    def desempilhar(self):\n",
        "        valor = self.pilha[-1]\n",
        "        del self.pilha[-1]\n",
        "        return valor\n",
        "\n",
        "\n",
        "    def mostrar_pilha(self):\n",
        "        print(self.pilha)\n",
        "\n",
        "\n",
        "## iniciando o objeto\n",
        "p = Pilha()\n",
        "## Usando métodos de empilhar\n",
        "p.empilhar(10)\n",
        "p.empilhar(20)\n",
        "p.empilhar(30)\n",
        "\n",
        "## Método de imprimir todos os valores\n",
        "p.mostrar_pilha()\n",
        "\n",
        "## Método de desempilhar\n",
        "p.desempilhar()\n",
        "p.mostrar_pilha()\n"
      ],
      "metadata": {
        "id": "tJGF3GBrYYxB",
        "colab": {
          "base_uri": "https://localhost:8080/"
        },
        "outputId": "b4e1beef-bfe6-4643-82dd-e9775a2cbeda"
      },
      "execution_count": null,
      "outputs": [
        {
          "output_type": "stream",
          "name": "stdout",
          "text": [
            "[10, 20, 30]\n",
            "[10, 20]\n"
          ]
        }
      ]
    },
    {
      "cell_type": "markdown",
      "source": [
        "### Herança:"
      ],
      "metadata": {
        "id": "m58W7ILjU02T"
      }
    },
    {
      "cell_type": "code",
      "source": [
        "## nova classe herdando da classe pilha\n",
        "class PilhaSomadora(Pilha):\n",
        "    def __init__(self):\n",
        "        ##pegando o \"construtor\" da outra classe\n",
        "        Pilha.__init__(self)\n",
        "        self.soma = 0\n",
        "\n",
        "    def soma(self):\n",
        "        return self.soma\n",
        "\n",
        "\n",
        "    def empilhar(self, n):\n",
        "        self.soma += n ## adicionando nova funcionalidade no método\n",
        "        Pilha.empilhar(self, n) ## chamando o método antigo\n",
        "\n",
        "\n",
        "    def desempilhar(self):\n",
        "        valor = Pilha.desempilhar(self) ## chama método antigo\n",
        "        self.soma -= valor ## adiciona nova funcionalidade\n",
        "        return valor\n",
        "\n",
        "## iniciando a classe\n",
        "p = PilhaSomadora()\n",
        "\n",
        "## método de empilhar\n",
        "p.empilhar(100)\n",
        "p.empilhar(200)\n",
        "p.empilhar(300)\n",
        "\n",
        "## metodo de imprimir todas as variaveis\n",
        "p.mostrar_pilha()\n",
        "\n",
        "## Acessando a variavel publica\n",
        "print(p.soma)\n",
        "\n",
        "## Metodo de desempilhar\n",
        "p.desempilhar()\n",
        "p.mostrar_pilha()\n",
        "\n",
        "## Acessando a variavel publica novamente\n",
        "print(p.soma)"
      ],
      "metadata": {
        "colab": {
          "base_uri": "https://localhost:8080/"
        },
        "id": "xD_5XtmumSw4",
        "outputId": "ccae893e-c7e3-4367-cde1-923a4a595714"
      },
      "execution_count": null,
      "outputs": [
        {
          "output_type": "stream",
          "name": "stdout",
          "text": [
            "[100, 200, 300]\n",
            "600\n",
            "[100, 200]\n",
            "300\n"
          ]
        }
      ]
    },
    {
      "cell_type": "markdown",
      "source": [
        "### Decoradores:\n",
        "\n",
        "É uma forma para envolver um método, modificando seu comportamento.\n",
        "\n",
        "Segundo a PEP318 (Python Enhancement Proposal - Proposta de melhoria na linguagem Python): \n",
        "\n",
        "> ___O método atual para transformar funções e métodos (por exemplo, declarando-os como classes ou métodos estáticos) é complicado e pode levar a código que é difícil de entender. Idealmente, essas transformações devem ser feitas no mesmo ponto do código onde a própria declaração é feita. Esta PEP introduz uma nova sintaxe para transformações de uma função ou declaração de métodos.___"
      ],
      "metadata": {
        "id": "ugmAGXUYVDJT"
      }
    },
    {
      "cell_type": "code",
      "source": [
        "class Empregado:\n",
        "    def __init__(self, nome = None, sobrenome = None):\n",
        "        self.__nome = nome ## atributos protegidos. Não é possível acessar eles fora da classe\n",
        "        self.__sobrenome = sobrenome\n",
        "    \n",
        "\n",
        "    @property ## permite acessar um método como se fosse um atributo (GET), ou seja, empregado.email\n",
        "    def email(self):\n",
        "        return f'{self.__nome}.{self.__sobrenome}@gmail.com'\n",
        "\n",
        "\n",
        "    @property ## a mesma coisa, permite acessar o metodo como se fosse atributo, ou seja, empregado.nomeInteiro\n",
        "    def nomeInteiro(self):\n",
        "        return f'{self.__nome} {self.__sobrenome}'\n",
        "\n",
        "\n",
        "    @nomeInteiro.setter ## permite fazer atribuição em um método fora da classe (SET)\n",
        "    def nomeInteiro(self, nome):\n",
        "        primeiro, ultimo = nome.split(' ') ## separa os nomes pelo espaço\n",
        "        self.__nome = primeiro \n",
        "        self.__sobrenome = ultimo\n",
        "\n",
        "\n",
        "    @nomeInteiro.deleter ## deleter permite usar a operação del neste metodo nomeInteiro \n",
        "    def nomeInteiro(self):\n",
        "        print('Deletando nome...')\n",
        "        self.__nome = None\n",
        "        self.__sobrenome = None\n",
        "\n",
        "\n",
        "    @property ## get do atributo nome\n",
        "    def nome(self):\n",
        "        return self.__nome\n",
        "\n",
        "\n",
        "    @nome.setter ## set do atributo nome\n",
        "    def nome(self, n):\n",
        "        self.__nome = n\n",
        "\n",
        "\n",
        "    @property ## get do atributo sobrenome\n",
        "    def sobrenome(self):\n",
        "        return self.__sobrenome\n",
        "\n",
        "\n",
        "    @sobrenome.setter ## set do atributo sobrenome\n",
        "    def sobrenome(self, n):\n",
        "        self.__sobrenome = n\n",
        "\n",
        "\n",
        "emp = Empregado('Joao', \"Silva\") ## criando objeto empregado passando nome e sobrenome separados\n",
        "print(emp.email) ## acessando o email \n",
        "print(emp.nome) ## acessando apenas o primeiro nome\n",
        "print(emp.sobrenome) ## acessando o segundo nome\n",
        "print(emp.nomeInteiro) ## acessando o nome inteiro\n",
        "\n",
        "print()\n",
        "\n",
        "emp2 = Empregado() ## criando o objeto sem passar nenhum parametro\n",
        "emp2.nomeInteiro = 'Maria Silva' ## setando o nome inteiro direto\n",
        "print(emp2.email) ## acessando o email\n",
        "print(emp2.nome) ## acessando o primeiro nome\n",
        "print(emp2.sobrenome) ## acessando o segundo nome\n",
        "print(emp2.nomeInteiro) ## acessando o nome inteiro\n",
        "\n",
        "\n"
      ],
      "metadata": {
        "colab": {
          "base_uri": "https://localhost:8080/"
        },
        "id": "Km8ja4RDpLJR",
        "outputId": "894c53e1-921e-404f-ef8a-6f7125b75e7a"
      },
      "execution_count": null,
      "outputs": [
        {
          "output_type": "stream",
          "name": "stdout",
          "text": [
            "Joao.Silva@gmail.com\n",
            "Joao\n",
            "Silva\n",
            "Joao Silva\n",
            "\n",
            "Maria.Silva@gmail.com\n",
            "Maria\n",
            "Silva\n",
            "Maria Silva\n"
          ]
        }
      ]
    },
    {
      "cell_type": "markdown",
      "source": [
        "### Métodos Mágicos (dunder)\n",
        "\n",
        "Basicamente, os métodos mágicos implementam certas operações que são chamadas com uma sintaxe espacial.</br>É uma sobrecarga de operador que pode tornar mais simples algumas operações.\n"
      ],
      "metadata": {
        "id": "pJ6AUwRsVJ-Q"
      }
    },
    {
      "cell_type": "code",
      "source": [
        "class Fracao:\n",
        "  ## construtor\n",
        "    def __init__(self, numerador, denominador):\n",
        "        self.numerador = numerador\n",
        "        \n",
        "        if denominador == 0:\n",
        "          self.denominador = 1\n",
        "        else:\n",
        "          self.denominador = denominador\n",
        "    \n",
        "    ## método para inverter numerador e denominador\n",
        "    def inverter(self):\n",
        "        return Fracao(self.denominador, self.numerador)\n",
        "    \n",
        "    ## método para trocar o sinal\n",
        "    def negar(self):\n",
        "        return Fracao(-self.numerador, self.denominador)\n",
        "    \n",
        "    ## método para somar duas frações\n",
        "    def somar(self, frac):\n",
        "        if self.denominador == frac.denominador:\n",
        "          num = self.numerador + frac.numerador\n",
        "          den = self.denominador + frac.denominador\n",
        "          return Fracao(num, den)\n",
        "    \n",
        "        else:\n",
        "          num = self.numerador * frac.denominador + frac.numerador * self.denominador\n",
        "          den = self.denominador * frac.denominador\n",
        "          return Fracao(num, den)\n",
        "    \n",
        "    ## método para subtrair duas frações\n",
        "    def subtrair(self, frac):\n",
        "        return self.somar(frac.negar())\n",
        "    \n",
        "    ## método para multiplicar duas frações\n",
        "    def multiplicar(self, frac):\n",
        "        num = self.numerador * frac.numerador\n",
        "        den = self.denominador *frac.denominador\n",
        "        return Fracao(num, den)\n",
        "    \n",
        "    ## método para dividir duas frações\n",
        "    def dividir(self, frac):\n",
        "        return self.multiplicar(frac.inverter())\n",
        "\n",
        "    ## sobrecarga de operadores\n",
        "    ## adicionar o operador '+' para \"interagir\" com objetos\n",
        "    def __add__(self, frac):\n",
        "        return self.somar(frac)\n",
        "    #a.somar(b)\n",
        "    # + b\n",
        "    ## adicionar o operador '-' para \"interagir\" com objetos -\n",
        "    def __sub__(self, frac):\n",
        "        return self.subtrair(frac)\n",
        "\n",
        "    ## adicionar o operador '*' para \"interagir\" com objetos\n",
        "    def __mul__(self, frac):\n",
        "        return self.multiplicar(frac)\n",
        "\n",
        "    ## adicionar o operador '/' para \"interagir\" com objetos\n",
        "    def __truediv__(self, frac):\n",
        "        return self.dividir(frac)\n",
        "\n",
        "    ## adicionar o operador '-' para \"interagir\" com objetos\n",
        "    def __neg__(self):\n",
        "        return self.negar()\n",
        "    \n",
        "    ## print()\n",
        "    def __str__(self):\n",
        "        return f'{self.numerador} / {self.denominador}'\n",
        "    \n",
        "    ## print em objetos mais abstratos, como listas, ou leitura diretamente no interpretador\n",
        "    def __repr__(self): ## representation\n",
        "        return f'Fracao({self.numerador}, {self.denominador})'\n",
        "\n",
        "## criando classes\n",
        "a = Fracao(4, 5)\n",
        "b = Fracao(-2, 7)\n",
        "\n",
        "## imprimindo as classes na forma de __str__ e __repr__\n",
        "print(f'fração A em str: {a}, repr: {a.__repr__()}')\n",
        "print(f'fração B em str: {b}, repr: {b.__repr__()}')"
      ],
      "metadata": {
        "colab": {
          "base_uri": "https://localhost:8080/"
        },
        "id": "k705hm_4vk9-",
        "outputId": "3e1a1e7c-da91-47d6-ae64-b2f6d0cceaa7"
      },
      "execution_count": null,
      "outputs": [
        {
          "output_type": "stream",
          "name": "stdout",
          "text": [
            "fração A em str: 4 / 5, repr: Fracao(4, 5)\n",
            "fração B em str: -2 / 7, repr: Fracao(-2, 7)\n"
          ]
        }
      ]
    },
    {
      "cell_type": "code",
      "source": [
        "## Operações com sobrecarga de operadores criadas\n",
        "print('negar fração A:', -a) ## __neg__\n",
        "print('soma:', a + b) ## __add__\n",
        "print('subtração:', a - b) ## __sub__\n",
        "print('multiplicação:', a * b) ## __mul__\n",
        "print('divisão:', a / b) ## __truediv__"
      ],
      "metadata": {
        "colab": {
          "base_uri": "https://localhost:8080/"
        },
        "id": "CQX38198jPbF",
        "outputId": "5b171421-ca0e-48b6-f745-05267a3eea32"
      },
      "execution_count": null,
      "outputs": [
        {
          "output_type": "stream",
          "name": "stdout",
          "text": [
            "negar fração A: -4 / 5\n",
            "soma: 18 / 35\n",
            "subtração: 38 / 35\n",
            "multiplicação: -8 / 35\n",
            "divisão: 28 / -10\n"
          ]
        }
      ]
    },
    {
      "cell_type": "code",
      "source": [
        "class Container:\n",
        "    ## \"construtor\"\n",
        "    def __init__(self, sequencia):\n",
        "        self.sequencia = sequencia\n",
        "    \n",
        "    ## adiciona o \"operador\" in para interagir com o objeto\n",
        "    def __contains__(self, dado):\n",
        "        return dado in self.sequencia\n",
        "    \n",
        "    ## adiciona o \"operador\" len() para interagir com o objeto\n",
        "    def __len__(self):\n",
        "        return len(self.sequencia)\n",
        "\n",
        "    ## adiciona o operador de fazer o get de um elemento em uma lista, exemplo lista[pos]\n",
        "    def __getitem__(self, pos):\n",
        "        return self.sequencia[pos]\n",
        "    \n",
        "    ## adiciona o operador de iteração for para interagir com o objeto\n",
        "    def __iter__(self):\n",
        "        return self.sequencia.__iter__()\n",
        "    \n",
        "\n",
        "\n",
        "c = Container('DASIDASGHUDSAHDOSAHDSAUDHTOGUROJDAISDOYHASOUDHASUODASDAS')\n",
        "\n",
        "## __len__\n",
        "print(len(c))\n"
      ],
      "metadata": {
        "colab": {
          "base_uri": "https://localhost:8080/"
        },
        "id": "QmBOkPu0tJ-n",
        "outputId": "3d7e890a-6691-414f-8090-cf48aa17ae3d"
      },
      "execution_count": null,
      "outputs": [
        {
          "output_type": "stream",
          "name": "stdout",
          "text": [
            "56\n"
          ]
        }
      ]
    },
    {
      "cell_type": "code",
      "source": [
        "## __contains__\n",
        "if 'TOGURO' in c:\n",
        "    print('EM PLENO 2022 E AS PESSOAS TEM PRECONCEITO CONTRA PYTHON')\n",
        "else:\n",
        "    print('a string não está contida')\n"
      ],
      "metadata": {
        "colab": {
          "base_uri": "https://localhost:8080/"
        },
        "id": "2K7LE2XxkK7Q",
        "outputId": "1d500938-2fb3-4fc8-b077-f82bff66c1f3"
      },
      "execution_count": null,
      "outputs": [
        {
          "output_type": "stream",
          "name": "stdout",
          "text": [
            "EM PLENO 2022 E AS PESSOAS TEM PRECONCEITO CONTRA PYTHON\n"
          ]
        }
      ]
    },
    {
      "cell_type": "code",
      "source": [
        "## __getitem__\n",
        "print(f'a letra na posição 15 é: {c[15]}')\n",
        "print(f'a frase a partir da posição 15 é: {c[15:]}')\n",
        "print(f'a frase a até a posição 15 é: {c[:15]}')\n"
      ],
      "metadata": {
        "colab": {
          "base_uri": "https://localhost:8080/"
        },
        "id": "obYi92Y2kDMS",
        "outputId": "47e28a38-d47a-4c18-a24c-da23e9b797fa"
      },
      "execution_count": null,
      "outputs": [
        {
          "output_type": "stream",
          "name": "stdout",
          "text": [
            "a letra na posição 15 é: O\n",
            "a frase a partir da posição 15 é: OSAHDSAUDHTOGUROJDAISDOYHASOUDHASUODASDAS\n",
            "a frase a até a posição 15 é: DASIDASGHUDSAHD\n"
          ]
        }
      ]
    },
    {
      "cell_type": "code",
      "source": [
        "## __iter__\n",
        "for char in c:\n",
        "    print(char, end = '')"
      ],
      "metadata": {
        "colab": {
          "base_uri": "https://localhost:8080/"
        },
        "id": "wX5PDDn5kQb6",
        "outputId": "32119748-9a79-40b2-9c6a-c090248f786e"
      },
      "execution_count": null,
      "outputs": [
        {
          "output_type": "stream",
          "name": "stdout",
          "text": [
            "DASIDASGHUDSAHDOSAHDSAUDHTOGUROJDAISDOYHASOUDHASUODASDAS"
          ]
        }
      ]
    },
    {
      "cell_type": "markdown",
      "source": [
        "## Manipulação de Arquivos\n",
        "\n"
      ],
      "metadata": {
        "id": "FpZXrrl8vP_z"
      }
    },
    {
      "cell_type": "markdown",
      "source": [
        "### Criar arquivo ou escrever em arquivos - append ou write\n",
        "\n",
        "diferenças: write reescreve os arquivos toda vez. Já o método append não, ele junta as coisas sem reescrever"
      ],
      "metadata": {
        "id": "t3mKDWQBktCF"
      }
    },
    {
      "cell_type": "code",
      "source": [
        "# função open para abrir arquivo no modo append (a)\n",
        "#append (a) nao reescreve um arquivo como write (w), ele apenas anexa\n",
        "file = open('teste.txt', 'a')\n",
        "file.write(\"Ola, Mundo!\\n\")\n",
        "\n",
        "## fecha o arquivo\n",
        "file.close()\n"
      ],
      "metadata": {
        "id": "3I_F32IIksIN"
      },
      "execution_count": null,
      "outputs": []
    },
    {
      "cell_type": "markdown",
      "source": [
        "### Abrir arquivos - read"
      ],
      "metadata": {
        "id": "X9qqD7pUlCaO"
      }
    },
    {
      "cell_type": "code",
      "source": [
        "#abertura de arquivo\n",
        "file = open('teste.txt', 'r')\n",
        "\n",
        "#funcao que le todo o arquivo\n",
        "print(file.read())"
      ],
      "metadata": {
        "colab": {
          "base_uri": "https://localhost:8080/"
        },
        "id": "dCX-wN1FlKQp",
        "outputId": "faed840f-c812-40fe-84bc-ac5cf1ece683"
      },
      "execution_count": null,
      "outputs": [
        {
          "output_type": "stream",
          "name": "stdout",
          "text": [
            "Ola, Mundo!\n",
            "\n"
          ]
        }
      ]
    },
    {
      "cell_type": "code",
      "source": [
        "#retorna linha por linha em uma lista\n",
        "file = open('teste.txt', 'r')\n",
        "print(file.readlines())\n",
        "\n",
        "file.close()"
      ],
      "metadata": {
        "colab": {
          "base_uri": "https://localhost:8080/"
        },
        "id": "dy88qQTElMLH",
        "outputId": "43198dc5-f46f-49fa-fe19-f5d7d1f65028"
      },
      "execution_count": null,
      "outputs": [
        {
          "output_type": "stream",
          "name": "stdout",
          "text": [
            "['Ola, Mundo!\\n']\n"
          ]
        }
      ]
    },
    {
      "cell_type": "code",
      "source": [
        "## outra forma de ler linha por linha de um arquivo\n",
        "file = open('teste.txt', 'r')\n",
        "for line in file:\n",
        "    print(line)\n",
        "\n",
        "file.close()\n"
      ],
      "metadata": {
        "colab": {
          "base_uri": "https://localhost:8080/"
        },
        "id": "yaIaLWOilPcq",
        "outputId": "2c6ae21f-bad4-4526-ab34-4bc3ef48e393"
      },
      "execution_count": null,
      "outputs": [
        {
          "output_type": "stream",
          "name": "stdout",
          "text": [
            "Ola, Mundo!\n",
            "\n"
          ]
        }
      ]
    },
    {
      "cell_type": "markdown",
      "source": [
        "### Boas praticas para usar arquivos - with"
      ],
      "metadata": {
        "id": "_gzmUeeLlpcg"
      }
    },
    {
      "cell_type": "code",
      "source": [
        "#uma boa pratica que abre o arquivo naquele bloco e fecha quando acabar o bloco\n",
        "with open('teste.txt', 'r') as file:\n",
        "    for line in file:\n",
        "        print(line)"
      ],
      "metadata": {
        "id": "p60P--0WD0Xd",
        "colab": {
          "base_uri": "https://localhost:8080/"
        },
        "outputId": "1f961bf5-03fb-4ad9-8d0f-7a2326a35aa8"
      },
      "execution_count": null,
      "outputs": [
        {
          "output_type": "stream",
          "name": "stdout",
          "text": [
            "Ola, Mundo!\n",
            "\n"
          ]
        }
      ]
    },
    {
      "cell_type": "markdown",
      "source": [
        "## Random"
      ],
      "metadata": {
        "id": "VqLeT-ipbLi3"
      }
    },
    {
      "cell_type": "code",
      "source": [
        "import random\n",
        "\n",
        "print(random.randint(0, 10))"
      ],
      "metadata": {
        "colab": {
          "base_uri": "https://localhost:8080/"
        },
        "id": "FaMZPbNLbVx7",
        "outputId": "7305a178-30a5-404b-f58e-43056e5014ce"
      },
      "execution_count": null,
      "outputs": [
        {
          "output_type": "stream",
          "name": "stdout",
          "text": [
            "1\n"
          ]
        }
      ]
    },
    {
      "cell_type": "markdown",
      "source": [
        "## Atividade 01\n",
        "\n",
        "Utilizando Orientação a Objetos e os conceitos aprendidos nessa aula, façam um jogo da forca, no qual:\n",
        "\n",
        "* as palavras devem ser lidas de um aquivo texto;\n",
        "* cada linha deve ser para uma única palavra;\n",
        "* as palavras e dicas devem estar organizadas dentro do aquivo como: \"palavra, dica\";\n",
        "\n",
        "\n",
        "Link: https://github.com/GuiBatalhoti/mini_curso_python/blob/main/forca.txt\n",
        "\n",
        "Resposta https://github.com/GuiBatalhoti/Firsrt-Simple-Game-in-Python"
      ],
      "metadata": {
        "id": "PNtndYFYusrd"
      }
    },
    {
      "cell_type": "code",
      "source": [],
      "metadata": {
        "id": "wJgGAOzSw1LM"
      },
      "execution_count": null,
      "outputs": []
    }
  ],
  "metadata": {
    "kernelspec": {
      "display_name": "Python 3.9.12 64-bit",
      "language": "python",
      "name": "python3"
    },
    "language_info": {
      "name": "python",
      "version": "3.9.12"
    },
    "orig_nbformat": 4,
    "vscode": {
      "interpreter": {
        "hash": "d50693958fdfdeea70cc66e7c212768c7b85f06617a080384e12f06630d76c8f"
      }
    },
    "colab": {
      "provenance": [],
      "collapsed_sections": [
        "RZzAv6z_Y_6E",
        "jP0lpYh2MJ1S",
        "rm42pw_IMJ1S",
        "ll3z6OgNR5I3",
        "TSvOBDJ5WFRU",
        "JuwEAAdBSx2M",
        "1vr0bb2nWKai",
        "Vn7rMs2cWWzd",
        "dZNUcckzWqa9",
        "B_-tXMxWWuoM",
        "HKsDJ0SRWyW-",
        "NdAKbemgW_l1",
        "mJ-RBnxuXKQE",
        "xi29pX11XjhY",
        "_YNDKTZYXkKy",
        "bR8ShXo-XnmJ",
        "-GQuhmBkYJrh",
        "6Vy-ajoPYe3F",
        "mWVgE1uI6Dr2",
        "x_XHelUQY37G",
        "zKGiZ6d-Y-uM",
        "aLBupDF_628Q",
        "iE_gVs7B7GWE",
        "kZRzCs1Q7XkT",
        "pUskl18-aVWa",
        "mOeI_UxbaicF",
        "EAs9w6Km7hLr",
        "k4N7QNgiA1e_",
        "pU7kKVcKbJtz",
        "bKgGTbXgbTXy",
        "-XCyuk35Ux97",
        "m58W7ILjU02T",
        "ugmAGXUYVDJT"
      ],
      "include_colab_link": true
    }
  },
  "nbformat": 4,
  "nbformat_minor": 0
}